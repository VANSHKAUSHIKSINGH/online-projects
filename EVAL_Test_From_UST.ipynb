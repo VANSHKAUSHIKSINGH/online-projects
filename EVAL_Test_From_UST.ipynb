{
  "nbformat": 4,
  "nbformat_minor": 0,
  "metadata": {
    "colab": {
      "provenance": []
    },
    "kernelspec": {
      "name": "python3",
      "display_name": "Python 3"
    },
    "language_info": {
      "name": "python"
    }
  },
  "cells": [
    {
      "cell_type": "markdown",
      "source": [
        "# **Question 1: Data Preprocessing**\n",
        "\n",
        "Scenario: You are given a dataset data.csv containing customer data for a retail company. The\n",
        "dataset includes features like 'Age', 'Annual Income', and 'Spending Score'. You need to\n",
        "preprocess this data for clustering analysis.\n",
        "\n",
        "# **Tasks:**\n",
        "\n",
        "Load the data using Pandas and display the first five rows.\n",
        "\n",
        "Handle any missing values in the dataset.\n",
        "\n",
        "Normalize the 'Annual Income' and 'Spending Score' columns using Min-Max scaling.\n",
        "\n",
        "# **Explanation:**\n",
        "\n",
        "Explain the steps you took to preprocess the data and why."
      ],
      "metadata": {
        "id": "xPja8CTLgPos"
      }
    },
    {
      "cell_type": "markdown",
      "source": [
        "# **Step 1: Load the data using Pandas and display the first five rows**"
      ],
      "metadata": {
        "id": "6-zR_HPdf7Qr"
      }
    },
    {
      "cell_type": "markdown",
      "source": [
        "To start the preprocessing of the dataset data.csv for clustering analysis, you'll first need to load the data into a Python environment using Pandas, which is a powerful data manipulation library. The initial step involves reading the CSV file and displaying the first few entries to understand the structure and nature of the data.\n",
        "\n",
        "Here's how you can do it:\n"
      ],
      "metadata": {
        "id": "IMopmMangFB5"
      }
    },
    {
      "cell_type": "code",
      "execution_count": null,
      "metadata": {
        "id": "qxhfspF5G9bm"
      },
      "outputs": [],
      "source": [
        "import numpy as np\n",
        "import pandas as pd\n",
        "import matplotlib.pyplot as plt\n",
        "import seaborn as sns"
      ]
    },
    {
      "cell_type": "code",
      "source": [
        "data = pd.read_csv('/content/CustomerData.csv')"
      ],
      "metadata": {
        "id": "ezN0WLucHeb4"
      },
      "execution_count": null,
      "outputs": []
    },
    {
      "cell_type": "code",
      "source": [
        "data.head(5)"
      ],
      "metadata": {
        "colab": {
          "base_uri": "https://localhost:8080/",
          "height": 206
        },
        "id": "wD5ALlPNHoUD",
        "outputId": "42bee5df-1e36-430d-b1eb-5b0e662637a4"
      },
      "execution_count": null,
      "outputs": [
        {
          "output_type": "execute_result",
          "data": {
            "text/plain": [
              "   Age  Annual Income  Spending Score\n",
              "0   49          68966              52\n",
              "1   31          30101              18\n",
              "2   43          64627              94\n",
              "3   49          47078              10\n",
              "4   51          60455              30"
            ],
            "text/html": [
              "\n",
              "  <div id=\"df-2291228f-f4e4-449c-8dd2-72ddd39f3cb4\" class=\"colab-df-container\">\n",
              "    <div>\n",
              "<style scoped>\n",
              "    .dataframe tbody tr th:only-of-type {\n",
              "        vertical-align: middle;\n",
              "    }\n",
              "\n",
              "    .dataframe tbody tr th {\n",
              "        vertical-align: top;\n",
              "    }\n",
              "\n",
              "    .dataframe thead th {\n",
              "        text-align: right;\n",
              "    }\n",
              "</style>\n",
              "<table border=\"1\" class=\"dataframe\">\n",
              "  <thead>\n",
              "    <tr style=\"text-align: right;\">\n",
              "      <th></th>\n",
              "      <th>Age</th>\n",
              "      <th>Annual Income</th>\n",
              "      <th>Spending Score</th>\n",
              "    </tr>\n",
              "  </thead>\n",
              "  <tbody>\n",
              "    <tr>\n",
              "      <th>0</th>\n",
              "      <td>49</td>\n",
              "      <td>68966</td>\n",
              "      <td>52</td>\n",
              "    </tr>\n",
              "    <tr>\n",
              "      <th>1</th>\n",
              "      <td>31</td>\n",
              "      <td>30101</td>\n",
              "      <td>18</td>\n",
              "    </tr>\n",
              "    <tr>\n",
              "      <th>2</th>\n",
              "      <td>43</td>\n",
              "      <td>64627</td>\n",
              "      <td>94</td>\n",
              "    </tr>\n",
              "    <tr>\n",
              "      <th>3</th>\n",
              "      <td>49</td>\n",
              "      <td>47078</td>\n",
              "      <td>10</td>\n",
              "    </tr>\n",
              "    <tr>\n",
              "      <th>4</th>\n",
              "      <td>51</td>\n",
              "      <td>60455</td>\n",
              "      <td>30</td>\n",
              "    </tr>\n",
              "  </tbody>\n",
              "</table>\n",
              "</div>\n",
              "    <div class=\"colab-df-buttons\">\n",
              "\n",
              "  <div class=\"colab-df-container\">\n",
              "    <button class=\"colab-df-convert\" onclick=\"convertToInteractive('df-2291228f-f4e4-449c-8dd2-72ddd39f3cb4')\"\n",
              "            title=\"Convert this dataframe to an interactive table.\"\n",
              "            style=\"display:none;\">\n",
              "\n",
              "  <svg xmlns=\"http://www.w3.org/2000/svg\" height=\"24px\" viewBox=\"0 -960 960 960\">\n",
              "    <path d=\"M120-120v-720h720v720H120Zm60-500h600v-160H180v160Zm220 220h160v-160H400v160Zm0 220h160v-160H400v160ZM180-400h160v-160H180v160Zm440 0h160v-160H620v160ZM180-180h160v-160H180v160Zm440 0h160v-160H620v160Z\"/>\n",
              "  </svg>\n",
              "    </button>\n",
              "\n",
              "  <style>\n",
              "    .colab-df-container {\n",
              "      display:flex;\n",
              "      gap: 12px;\n",
              "    }\n",
              "\n",
              "    .colab-df-convert {\n",
              "      background-color: #E8F0FE;\n",
              "      border: none;\n",
              "      border-radius: 50%;\n",
              "      cursor: pointer;\n",
              "      display: none;\n",
              "      fill: #1967D2;\n",
              "      height: 32px;\n",
              "      padding: 0 0 0 0;\n",
              "      width: 32px;\n",
              "    }\n",
              "\n",
              "    .colab-df-convert:hover {\n",
              "      background-color: #E2EBFA;\n",
              "      box-shadow: 0px 1px 2px rgba(60, 64, 67, 0.3), 0px 1px 3px 1px rgba(60, 64, 67, 0.15);\n",
              "      fill: #174EA6;\n",
              "    }\n",
              "\n",
              "    .colab-df-buttons div {\n",
              "      margin-bottom: 4px;\n",
              "    }\n",
              "\n",
              "    [theme=dark] .colab-df-convert {\n",
              "      background-color: #3B4455;\n",
              "      fill: #D2E3FC;\n",
              "    }\n",
              "\n",
              "    [theme=dark] .colab-df-convert:hover {\n",
              "      background-color: #434B5C;\n",
              "      box-shadow: 0px 1px 3px 1px rgba(0, 0, 0, 0.15);\n",
              "      filter: drop-shadow(0px 1px 2px rgba(0, 0, 0, 0.3));\n",
              "      fill: #FFFFFF;\n",
              "    }\n",
              "  </style>\n",
              "\n",
              "    <script>\n",
              "      const buttonEl =\n",
              "        document.querySelector('#df-2291228f-f4e4-449c-8dd2-72ddd39f3cb4 button.colab-df-convert');\n",
              "      buttonEl.style.display =\n",
              "        google.colab.kernel.accessAllowed ? 'block' : 'none';\n",
              "\n",
              "      async function convertToInteractive(key) {\n",
              "        const element = document.querySelector('#df-2291228f-f4e4-449c-8dd2-72ddd39f3cb4');\n",
              "        const dataTable =\n",
              "          await google.colab.kernel.invokeFunction('convertToInteractive',\n",
              "                                                    [key], {});\n",
              "        if (!dataTable) return;\n",
              "\n",
              "        const docLinkHtml = 'Like what you see? Visit the ' +\n",
              "          '<a target=\"_blank\" href=https://colab.research.google.com/notebooks/data_table.ipynb>data table notebook</a>'\n",
              "          + ' to learn more about interactive tables.';\n",
              "        element.innerHTML = '';\n",
              "        dataTable['output_type'] = 'display_data';\n",
              "        await google.colab.output.renderOutput(dataTable, element);\n",
              "        const docLink = document.createElement('div');\n",
              "        docLink.innerHTML = docLinkHtml;\n",
              "        element.appendChild(docLink);\n",
              "      }\n",
              "    </script>\n",
              "  </div>\n",
              "\n",
              "\n",
              "<div id=\"df-77a69956-73b2-4bcd-8003-130725e0f5de\">\n",
              "  <button class=\"colab-df-quickchart\" onclick=\"quickchart('df-77a69956-73b2-4bcd-8003-130725e0f5de')\"\n",
              "            title=\"Suggest charts\"\n",
              "            style=\"display:none;\">\n",
              "\n",
              "<svg xmlns=\"http://www.w3.org/2000/svg\" height=\"24px\"viewBox=\"0 0 24 24\"\n",
              "     width=\"24px\">\n",
              "    <g>\n",
              "        <path d=\"M19 3H5c-1.1 0-2 .9-2 2v14c0 1.1.9 2 2 2h14c1.1 0 2-.9 2-2V5c0-1.1-.9-2-2-2zM9 17H7v-7h2v7zm4 0h-2V7h2v10zm4 0h-2v-4h2v4z\"/>\n",
              "    </g>\n",
              "</svg>\n",
              "  </button>\n",
              "\n",
              "<style>\n",
              "  .colab-df-quickchart {\n",
              "      --bg-color: #E8F0FE;\n",
              "      --fill-color: #1967D2;\n",
              "      --hover-bg-color: #E2EBFA;\n",
              "      --hover-fill-color: #174EA6;\n",
              "      --disabled-fill-color: #AAA;\n",
              "      --disabled-bg-color: #DDD;\n",
              "  }\n",
              "\n",
              "  [theme=dark] .colab-df-quickchart {\n",
              "      --bg-color: #3B4455;\n",
              "      --fill-color: #D2E3FC;\n",
              "      --hover-bg-color: #434B5C;\n",
              "      --hover-fill-color: #FFFFFF;\n",
              "      --disabled-bg-color: #3B4455;\n",
              "      --disabled-fill-color: #666;\n",
              "  }\n",
              "\n",
              "  .colab-df-quickchart {\n",
              "    background-color: var(--bg-color);\n",
              "    border: none;\n",
              "    border-radius: 50%;\n",
              "    cursor: pointer;\n",
              "    display: none;\n",
              "    fill: var(--fill-color);\n",
              "    height: 32px;\n",
              "    padding: 0;\n",
              "    width: 32px;\n",
              "  }\n",
              "\n",
              "  .colab-df-quickchart:hover {\n",
              "    background-color: var(--hover-bg-color);\n",
              "    box-shadow: 0 1px 2px rgba(60, 64, 67, 0.3), 0 1px 3px 1px rgba(60, 64, 67, 0.15);\n",
              "    fill: var(--button-hover-fill-color);\n",
              "  }\n",
              "\n",
              "  .colab-df-quickchart-complete:disabled,\n",
              "  .colab-df-quickchart-complete:disabled:hover {\n",
              "    background-color: var(--disabled-bg-color);\n",
              "    fill: var(--disabled-fill-color);\n",
              "    box-shadow: none;\n",
              "  }\n",
              "\n",
              "  .colab-df-spinner {\n",
              "    border: 2px solid var(--fill-color);\n",
              "    border-color: transparent;\n",
              "    border-bottom-color: var(--fill-color);\n",
              "    animation:\n",
              "      spin 1s steps(1) infinite;\n",
              "  }\n",
              "\n",
              "  @keyframes spin {\n",
              "    0% {\n",
              "      border-color: transparent;\n",
              "      border-bottom-color: var(--fill-color);\n",
              "      border-left-color: var(--fill-color);\n",
              "    }\n",
              "    20% {\n",
              "      border-color: transparent;\n",
              "      border-left-color: var(--fill-color);\n",
              "      border-top-color: var(--fill-color);\n",
              "    }\n",
              "    30% {\n",
              "      border-color: transparent;\n",
              "      border-left-color: var(--fill-color);\n",
              "      border-top-color: var(--fill-color);\n",
              "      border-right-color: var(--fill-color);\n",
              "    }\n",
              "    40% {\n",
              "      border-color: transparent;\n",
              "      border-right-color: var(--fill-color);\n",
              "      border-top-color: var(--fill-color);\n",
              "    }\n",
              "    60% {\n",
              "      border-color: transparent;\n",
              "      border-right-color: var(--fill-color);\n",
              "    }\n",
              "    80% {\n",
              "      border-color: transparent;\n",
              "      border-right-color: var(--fill-color);\n",
              "      border-bottom-color: var(--fill-color);\n",
              "    }\n",
              "    90% {\n",
              "      border-color: transparent;\n",
              "      border-bottom-color: var(--fill-color);\n",
              "    }\n",
              "  }\n",
              "</style>\n",
              "\n",
              "  <script>\n",
              "    async function quickchart(key) {\n",
              "      const quickchartButtonEl =\n",
              "        document.querySelector('#' + key + ' button');\n",
              "      quickchartButtonEl.disabled = true;  // To prevent multiple clicks.\n",
              "      quickchartButtonEl.classList.add('colab-df-spinner');\n",
              "      try {\n",
              "        const charts = await google.colab.kernel.invokeFunction(\n",
              "            'suggestCharts', [key], {});\n",
              "      } catch (error) {\n",
              "        console.error('Error during call to suggestCharts:', error);\n",
              "      }\n",
              "      quickchartButtonEl.classList.remove('colab-df-spinner');\n",
              "      quickchartButtonEl.classList.add('colab-df-quickchart-complete');\n",
              "    }\n",
              "    (() => {\n",
              "      let quickchartButtonEl =\n",
              "        document.querySelector('#df-77a69956-73b2-4bcd-8003-130725e0f5de button');\n",
              "      quickchartButtonEl.style.display =\n",
              "        google.colab.kernel.accessAllowed ? 'block' : 'none';\n",
              "    })();\n",
              "  </script>\n",
              "</div>\n",
              "\n",
              "    </div>\n",
              "  </div>\n"
            ],
            "application/vnd.google.colaboratory.intrinsic+json": {
              "type": "dataframe",
              "variable_name": "data",
              "summary": "{\n  \"name\": \"data\",\n  \"rows\": 100,\n  \"fields\": [\n    {\n      \"column\": \"Age\",\n      \"properties\": {\n        \"dtype\": \"number\",\n        \"std\": 15,\n        \"min\": 19,\n        \"max\": 68,\n        \"num_unique_values\": 46,\n        \"samples\": [\n          28,\n          48,\n          44\n        ],\n        \"semantic_type\": \"\",\n        \"description\": \"\"\n      }\n    },\n    {\n      \"column\": \"Annual Income\",\n      \"properties\": {\n        \"dtype\": \"number\",\n        \"std\": 11927,\n        \"min\": 30101,\n        \"max\": 69609,\n        \"num_unique_values\": 100,\n        \"samples\": [\n          38812,\n          62199,\n          58136\n        ],\n        \"semantic_type\": \"\",\n        \"description\": \"\"\n      }\n    },\n    {\n      \"column\": \"Spending Score\",\n      \"properties\": {\n        \"dtype\": \"number\",\n        \"std\": 28,\n        \"min\": 1,\n        \"max\": 95,\n        \"num_unique_values\": 58,\n        \"samples\": [\n          52,\n          92,\n          59\n        ],\n        \"semantic_type\": \"\",\n        \"description\": \"\"\n      }\n    }\n  ]\n}"
            }
          },
          "metadata": {},
          "execution_count": 3
        }
      ]
    },
    {
      "cell_type": "markdown",
      "source": [
        "# **Step 2: Handle any missing values in the dataset**\n",
        "\n",
        "After inspecting the first few rows, the next step is to check for and handle missing values. Missing data can distort the analysis, especially in algorithms like clustering which rely on distance metrics. There are several strategies to deal with missing data:\n",
        "\n",
        "* Remove rows with missing values.\n",
        "\n",
        "* Fill missing values with a statistic (mean, median, mode, etc.).\n",
        "\n",
        "* Impute missing values based on other methods (like k-nearest neighbors,\n",
        "  regression, etc.).\n",
        "\n",
        "Depending on the amount and importance of the missing data, and the nature of the analysis, you might choose one strategy over another. For simplicity, if there are not many missing entries, you might just remove those rows or fill them with the median or mean:\n"
      ],
      "metadata": {
        "id": "5nIsPqqAhW9Y"
      }
    },
    {
      "cell_type": "code",
      "source": [
        "data.isnull().sum()"
      ],
      "metadata": {
        "colab": {
          "base_uri": "https://localhost:8080/"
        },
        "id": "hsjQ25eaHtPU",
        "outputId": "0055a451-f6cd-481a-acf7-78fded96e139"
      },
      "execution_count": null,
      "outputs": [
        {
          "output_type": "execute_result",
          "data": {
            "text/plain": [
              "Age               0\n",
              "Annual Income     0\n",
              "Spending Score    0\n",
              "dtype: int64"
            ]
          },
          "metadata": {},
          "execution_count": 4
        }
      ]
    },
    {
      "cell_type": "markdown",
      "source": [
        "# **Step 3: Normalize the 'Annual Income' and 'Spending Score' columns using Min-Max scaling**\n",
        "\n",
        "Normalization is crucial before clustering because it brings all features to the same scale. Without this, a feature with a higher range of values will dominate the distance calculations, potentially skewing the results.\n",
        "\n",
        "Min-Max scaling is a common type of normalization that adjusts the data to a fixed range, typically 0 to 1. The formula used is:\n"
      ],
      "metadata": {
        "id": "ErTLx-W3iAy4"
      }
    },
    {
      "cell_type": "code",
      "source": [
        "from sklearn.preprocessing import MinMaxScaler\n",
        "scaler = MinMaxScaler()\n",
        "columns_to_scale = ['Annual Income', 'Spending Score']\n",
        "data[columns_to_scale] = scaler.fit_transform(data[columns_to_scale])\n",
        "print(data.head())\n"
      ],
      "metadata": {
        "colab": {
          "base_uri": "https://localhost:8080/"
        },
        "id": "F1VibInnHzo8",
        "outputId": "43d2676c-134f-4fbe-d119-1ae57a8f2587"
      },
      "execution_count": null,
      "outputs": [
        {
          "output_type": "stream",
          "name": "stdout",
          "text": [
            "   Age  Annual Income  Spending Score\n",
            "0   49       0.983725        0.542553\n",
            "1   31       0.000000        0.180851\n",
            "2   43       0.873899        0.989362\n",
            "3   49       0.429710        0.095745\n",
            "4   51       0.768300        0.308511\n"
          ]
        }
      ]
    },
    {
      "cell_type": "code",
      "source": [],
      "metadata": {
        "id": "BJpEot7lIE9W"
      },
      "execution_count": null,
      "outputs": []
    },
    {
      "cell_type": "markdown",
      "source": [
        "# **Question 1:**\n",
        "\n",
        "**Scenario and Tasks**:\n",
        "\n",
        "You have a dataset with customer features and need to preprocess it for clustering analysis. The tasks involve loading the data, handling missing values, and normalizing certain columns.\n",
        "\n",
        "### **Steps Taken:**\n",
        "\n",
        "**Load Data**: Using Pandas, the data is loaded to inspect and understand the structure, which helps in subsequent preprocessing steps.\n",
        "\n",
        "**Handle Missing Values**: Missing data can mislead or bias the clustering algorithm. Options include removing missing data or imputing values based on median, mean, or mode.\n",
        "\n",
        "**Normalize Data**: Min-Max scaling was applied to 'Annual Income' and 'Spending Score' to ensure these features contribute equally during clustering, preventing any feature with a larger scale from dominating the distance calculations used in clustering algorithms.\n",
        "\n",
        "**Why These Steps**:\n",
        "\n",
        "**Loading Data**: Essential first step for any data processing task.\n",
        "Handling Missing Values: Ensures the quality and completeness of data used for modeling.\n",
        "\n",
        "**Normalization**: Critical for distance-based algorithms like K-means used in clustering to ensure fair comparison and grouping based on normalized distances."
      ],
      "metadata": {
        "id": "b5jDKDw8ipSX"
      }
    },
    {
      "cell_type": "markdown",
      "source": [
        "# **Question 1 : ENDING**"
      ],
      "metadata": {
        "id": "K0njv6BWkl79"
      }
    },
    {
      "cell_type": "markdown",
      "source": [
        "# **Question 2: Model Building and Evaluation**\n",
        "\n",
        "Scenario: You want to predict whether a customer will subscribe to a new service based on their\n",
        "features in the dataset customer_data.csv. The target variable is 'Subscribed' which is binary.\n",
        "\n",
        "# **Tasks:**\n",
        "\n",
        "Split the dataset into training and testing sets with a test size of 20%.\n",
        "\n",
        "Train a logistic regression model on the training data.\n",
        "\n",
        "Evaluate the model on the test data using accuracy and confusion matrix.\n",
        "\n",
        "# **Explanation:**\n",
        "\n",
        "Discuss the choice of logistic regression for this scenario.\n",
        "Explain what the confusion matrix tells you about the model's performance."
      ],
      "metadata": {
        "id": "jh1HhpCNkDez"
      }
    },
    {
      "cell_type": "markdown",
      "source": [
        "# **Step 1: Split the dataset into training and testing sets**"
      ],
      "metadata": {
        "id": "Yz0DkzbDrXOi"
      }
    },
    {
      "cell_type": "markdown",
      "source": [
        "To develop a predictive model using the dataset customer_data.csv, the first step is to divide the data into training and testing subsets. The training set is used to train the model, while the testing set is used to evaluate its performance. This division helps in understanding how well the model would perform on unseen data, ensuring the robustness of the model. Typically, a split of 70-30 or 80-20 (training-testing) is used."
      ],
      "metadata": {
        "id": "QgxhQhinrgml"
      }
    },
    {
      "cell_type": "code",
      "execution_count": null,
      "metadata": {
        "id": "lVcghsWWim_J"
      },
      "outputs": [],
      "source": [
        "import numpy as np\n",
        "import pandas as pd\n",
        "import matplotlib.pyplot as plt\n",
        "import seaborn as sns\n",
        "from sklearn.model_selection import train_test_split"
      ]
    },
    {
      "cell_type": "code",
      "source": [
        "data = pd.read_csv('/content/CustomerSubscriptionData.csv')"
      ],
      "metadata": {
        "id": "wDvj0Oi2Iz_g"
      },
      "execution_count": null,
      "outputs": []
    },
    {
      "cell_type": "code",
      "source": [
        "data.head(5)"
      ],
      "metadata": {
        "colab": {
          "base_uri": "https://localhost:8080/",
          "height": 206
        },
        "id": "n1wuV89_JDaj",
        "outputId": "f26751d8-6bf2-447f-f71f-8dc437874801"
      },
      "execution_count": null,
      "outputs": [
        {
          "output_type": "execute_result",
          "data": {
            "text/plain": [
              "   Age  Annual Income  Spending Score Subscribed\n",
              "0   52          68889              46        Yes\n",
              "1   67          59577              97         No\n",
              "2   54          41532              55        Yes\n",
              "3   19          34980              25         No\n",
              "4   45          65792              91         No"
            ],
            "text/html": [
              "\n",
              "  <div id=\"df-26786c07-66a1-4bb0-aaa6-d51dac351ed3\" class=\"colab-df-container\">\n",
              "    <div>\n",
              "<style scoped>\n",
              "    .dataframe tbody tr th:only-of-type {\n",
              "        vertical-align: middle;\n",
              "    }\n",
              "\n",
              "    .dataframe tbody tr th {\n",
              "        vertical-align: top;\n",
              "    }\n",
              "\n",
              "    .dataframe thead th {\n",
              "        text-align: right;\n",
              "    }\n",
              "</style>\n",
              "<table border=\"1\" class=\"dataframe\">\n",
              "  <thead>\n",
              "    <tr style=\"text-align: right;\">\n",
              "      <th></th>\n",
              "      <th>Age</th>\n",
              "      <th>Annual Income</th>\n",
              "      <th>Spending Score</th>\n",
              "      <th>Subscribed</th>\n",
              "    </tr>\n",
              "  </thead>\n",
              "  <tbody>\n",
              "    <tr>\n",
              "      <th>0</th>\n",
              "      <td>52</td>\n",
              "      <td>68889</td>\n",
              "      <td>46</td>\n",
              "      <td>Yes</td>\n",
              "    </tr>\n",
              "    <tr>\n",
              "      <th>1</th>\n",
              "      <td>67</td>\n",
              "      <td>59577</td>\n",
              "      <td>97</td>\n",
              "      <td>No</td>\n",
              "    </tr>\n",
              "    <tr>\n",
              "      <th>2</th>\n",
              "      <td>54</td>\n",
              "      <td>41532</td>\n",
              "      <td>55</td>\n",
              "      <td>Yes</td>\n",
              "    </tr>\n",
              "    <tr>\n",
              "      <th>3</th>\n",
              "      <td>19</td>\n",
              "      <td>34980</td>\n",
              "      <td>25</td>\n",
              "      <td>No</td>\n",
              "    </tr>\n",
              "    <tr>\n",
              "      <th>4</th>\n",
              "      <td>45</td>\n",
              "      <td>65792</td>\n",
              "      <td>91</td>\n",
              "      <td>No</td>\n",
              "    </tr>\n",
              "  </tbody>\n",
              "</table>\n",
              "</div>\n",
              "    <div class=\"colab-df-buttons\">\n",
              "\n",
              "  <div class=\"colab-df-container\">\n",
              "    <button class=\"colab-df-convert\" onclick=\"convertToInteractive('df-26786c07-66a1-4bb0-aaa6-d51dac351ed3')\"\n",
              "            title=\"Convert this dataframe to an interactive table.\"\n",
              "            style=\"display:none;\">\n",
              "\n",
              "  <svg xmlns=\"http://www.w3.org/2000/svg\" height=\"24px\" viewBox=\"0 -960 960 960\">\n",
              "    <path d=\"M120-120v-720h720v720H120Zm60-500h600v-160H180v160Zm220 220h160v-160H400v160Zm0 220h160v-160H400v160ZM180-400h160v-160H180v160Zm440 0h160v-160H620v160ZM180-180h160v-160H180v160Zm440 0h160v-160H620v160Z\"/>\n",
              "  </svg>\n",
              "    </button>\n",
              "\n",
              "  <style>\n",
              "    .colab-df-container {\n",
              "      display:flex;\n",
              "      gap: 12px;\n",
              "    }\n",
              "\n",
              "    .colab-df-convert {\n",
              "      background-color: #E8F0FE;\n",
              "      border: none;\n",
              "      border-radius: 50%;\n",
              "      cursor: pointer;\n",
              "      display: none;\n",
              "      fill: #1967D2;\n",
              "      height: 32px;\n",
              "      padding: 0 0 0 0;\n",
              "      width: 32px;\n",
              "    }\n",
              "\n",
              "    .colab-df-convert:hover {\n",
              "      background-color: #E2EBFA;\n",
              "      box-shadow: 0px 1px 2px rgba(60, 64, 67, 0.3), 0px 1px 3px 1px rgba(60, 64, 67, 0.15);\n",
              "      fill: #174EA6;\n",
              "    }\n",
              "\n",
              "    .colab-df-buttons div {\n",
              "      margin-bottom: 4px;\n",
              "    }\n",
              "\n",
              "    [theme=dark] .colab-df-convert {\n",
              "      background-color: #3B4455;\n",
              "      fill: #D2E3FC;\n",
              "    }\n",
              "\n",
              "    [theme=dark] .colab-df-convert:hover {\n",
              "      background-color: #434B5C;\n",
              "      box-shadow: 0px 1px 3px 1px rgba(0, 0, 0, 0.15);\n",
              "      filter: drop-shadow(0px 1px 2px rgba(0, 0, 0, 0.3));\n",
              "      fill: #FFFFFF;\n",
              "    }\n",
              "  </style>\n",
              "\n",
              "    <script>\n",
              "      const buttonEl =\n",
              "        document.querySelector('#df-26786c07-66a1-4bb0-aaa6-d51dac351ed3 button.colab-df-convert');\n",
              "      buttonEl.style.display =\n",
              "        google.colab.kernel.accessAllowed ? 'block' : 'none';\n",
              "\n",
              "      async function convertToInteractive(key) {\n",
              "        const element = document.querySelector('#df-26786c07-66a1-4bb0-aaa6-d51dac351ed3');\n",
              "        const dataTable =\n",
              "          await google.colab.kernel.invokeFunction('convertToInteractive',\n",
              "                                                    [key], {});\n",
              "        if (!dataTable) return;\n",
              "\n",
              "        const docLinkHtml = 'Like what you see? Visit the ' +\n",
              "          '<a target=\"_blank\" href=https://colab.research.google.com/notebooks/data_table.ipynb>data table notebook</a>'\n",
              "          + ' to learn more about interactive tables.';\n",
              "        element.innerHTML = '';\n",
              "        dataTable['output_type'] = 'display_data';\n",
              "        await google.colab.output.renderOutput(dataTable, element);\n",
              "        const docLink = document.createElement('div');\n",
              "        docLink.innerHTML = docLinkHtml;\n",
              "        element.appendChild(docLink);\n",
              "      }\n",
              "    </script>\n",
              "  </div>\n",
              "\n",
              "\n",
              "<div id=\"df-0b13da19-0a7b-4f7f-8572-dc5a25ca9a40\">\n",
              "  <button class=\"colab-df-quickchart\" onclick=\"quickchart('df-0b13da19-0a7b-4f7f-8572-dc5a25ca9a40')\"\n",
              "            title=\"Suggest charts\"\n",
              "            style=\"display:none;\">\n",
              "\n",
              "<svg xmlns=\"http://www.w3.org/2000/svg\" height=\"24px\"viewBox=\"0 0 24 24\"\n",
              "     width=\"24px\">\n",
              "    <g>\n",
              "        <path d=\"M19 3H5c-1.1 0-2 .9-2 2v14c0 1.1.9 2 2 2h14c1.1 0 2-.9 2-2V5c0-1.1-.9-2-2-2zM9 17H7v-7h2v7zm4 0h-2V7h2v10zm4 0h-2v-4h2v4z\"/>\n",
              "    </g>\n",
              "</svg>\n",
              "  </button>\n",
              "\n",
              "<style>\n",
              "  .colab-df-quickchart {\n",
              "      --bg-color: #E8F0FE;\n",
              "      --fill-color: #1967D2;\n",
              "      --hover-bg-color: #E2EBFA;\n",
              "      --hover-fill-color: #174EA6;\n",
              "      --disabled-fill-color: #AAA;\n",
              "      --disabled-bg-color: #DDD;\n",
              "  }\n",
              "\n",
              "  [theme=dark] .colab-df-quickchart {\n",
              "      --bg-color: #3B4455;\n",
              "      --fill-color: #D2E3FC;\n",
              "      --hover-bg-color: #434B5C;\n",
              "      --hover-fill-color: #FFFFFF;\n",
              "      --disabled-bg-color: #3B4455;\n",
              "      --disabled-fill-color: #666;\n",
              "  }\n",
              "\n",
              "  .colab-df-quickchart {\n",
              "    background-color: var(--bg-color);\n",
              "    border: none;\n",
              "    border-radius: 50%;\n",
              "    cursor: pointer;\n",
              "    display: none;\n",
              "    fill: var(--fill-color);\n",
              "    height: 32px;\n",
              "    padding: 0;\n",
              "    width: 32px;\n",
              "  }\n",
              "\n",
              "  .colab-df-quickchart:hover {\n",
              "    background-color: var(--hover-bg-color);\n",
              "    box-shadow: 0 1px 2px rgba(60, 64, 67, 0.3), 0 1px 3px 1px rgba(60, 64, 67, 0.15);\n",
              "    fill: var(--button-hover-fill-color);\n",
              "  }\n",
              "\n",
              "  .colab-df-quickchart-complete:disabled,\n",
              "  .colab-df-quickchart-complete:disabled:hover {\n",
              "    background-color: var(--disabled-bg-color);\n",
              "    fill: var(--disabled-fill-color);\n",
              "    box-shadow: none;\n",
              "  }\n",
              "\n",
              "  .colab-df-spinner {\n",
              "    border: 2px solid var(--fill-color);\n",
              "    border-color: transparent;\n",
              "    border-bottom-color: var(--fill-color);\n",
              "    animation:\n",
              "      spin 1s steps(1) infinite;\n",
              "  }\n",
              "\n",
              "  @keyframes spin {\n",
              "    0% {\n",
              "      border-color: transparent;\n",
              "      border-bottom-color: var(--fill-color);\n",
              "      border-left-color: var(--fill-color);\n",
              "    }\n",
              "    20% {\n",
              "      border-color: transparent;\n",
              "      border-left-color: var(--fill-color);\n",
              "      border-top-color: var(--fill-color);\n",
              "    }\n",
              "    30% {\n",
              "      border-color: transparent;\n",
              "      border-left-color: var(--fill-color);\n",
              "      border-top-color: var(--fill-color);\n",
              "      border-right-color: var(--fill-color);\n",
              "    }\n",
              "    40% {\n",
              "      border-color: transparent;\n",
              "      border-right-color: var(--fill-color);\n",
              "      border-top-color: var(--fill-color);\n",
              "    }\n",
              "    60% {\n",
              "      border-color: transparent;\n",
              "      border-right-color: var(--fill-color);\n",
              "    }\n",
              "    80% {\n",
              "      border-color: transparent;\n",
              "      border-right-color: var(--fill-color);\n",
              "      border-bottom-color: var(--fill-color);\n",
              "    }\n",
              "    90% {\n",
              "      border-color: transparent;\n",
              "      border-bottom-color: var(--fill-color);\n",
              "    }\n",
              "  }\n",
              "</style>\n",
              "\n",
              "  <script>\n",
              "    async function quickchart(key) {\n",
              "      const quickchartButtonEl =\n",
              "        document.querySelector('#' + key + ' button');\n",
              "      quickchartButtonEl.disabled = true;  // To prevent multiple clicks.\n",
              "      quickchartButtonEl.classList.add('colab-df-spinner');\n",
              "      try {\n",
              "        const charts = await google.colab.kernel.invokeFunction(\n",
              "            'suggestCharts', [key], {});\n",
              "      } catch (error) {\n",
              "        console.error('Error during call to suggestCharts:', error);\n",
              "      }\n",
              "      quickchartButtonEl.classList.remove('colab-df-spinner');\n",
              "      quickchartButtonEl.classList.add('colab-df-quickchart-complete');\n",
              "    }\n",
              "    (() => {\n",
              "      let quickchartButtonEl =\n",
              "        document.querySelector('#df-0b13da19-0a7b-4f7f-8572-dc5a25ca9a40 button');\n",
              "      quickchartButtonEl.style.display =\n",
              "        google.colab.kernel.accessAllowed ? 'block' : 'none';\n",
              "    })();\n",
              "  </script>\n",
              "</div>\n",
              "\n",
              "    </div>\n",
              "  </div>\n"
            ],
            "application/vnd.google.colaboratory.intrinsic+json": {
              "type": "dataframe",
              "variable_name": "data",
              "summary": "{\n  \"name\": \"data\",\n  \"rows\": 100,\n  \"fields\": [\n    {\n      \"column\": \"Age\",\n      \"properties\": {\n        \"dtype\": \"number\",\n        \"std\": 14,\n        \"min\": 19,\n        \"max\": 68,\n        \"num_unique_values\": 40,\n        \"samples\": [\n          51,\n          28,\n          36\n        ],\n        \"semantic_type\": \"\",\n        \"description\": \"\"\n      }\n    },\n    {\n      \"column\": \"Annual Income\",\n      \"properties\": {\n        \"dtype\": \"number\",\n        \"std\": 11396,\n        \"min\": 30114,\n        \"max\": 69961,\n        \"num_unique_values\": 100,\n        \"samples\": [\n          42910,\n          36095,\n          38508\n        ],\n        \"semantic_type\": \"\",\n        \"description\": \"\"\n      }\n    },\n    {\n      \"column\": \"Spending Score\",\n      \"properties\": {\n        \"dtype\": \"number\",\n        \"std\": 29,\n        \"min\": 2,\n        \"max\": 99,\n        \"num_unique_values\": 68,\n        \"samples\": [\n          27,\n          77,\n          91\n        ],\n        \"semantic_type\": \"\",\n        \"description\": \"\"\n      }\n    },\n    {\n      \"column\": \"Subscribed\",\n      \"properties\": {\n        \"dtype\": \"category\",\n        \"num_unique_values\": 2,\n        \"samples\": [\n          \"No\",\n          \"Yes\"\n        ],\n        \"semantic_type\": \"\",\n        \"description\": \"\"\n      }\n    }\n  ]\n}"
            }
          },
          "metadata": {},
          "execution_count": 4
        }
      ]
    },
    {
      "cell_type": "code",
      "source": [
        "# Assuming 'Subscribed' is the target variable\n",
        "X = data.drop('Subscribed', axis=1)\n",
        "y = data['Subscribed']\n",
        "\n",
        "X_train, X_test, y_train, y_test = train_test_split(X, y, test_size=0.20, random_state=42)"
      ],
      "metadata": {
        "id": "Jkk8dervJFU1"
      },
      "execution_count": null,
      "outputs": []
    },
    {
      "cell_type": "markdown",
      "source": [
        "# **Step 2: Train a logistic regression model**"
      ],
      "metadata": {
        "id": "LFtUVK3Dr1Bg"
      }
    },
    {
      "cell_type": "markdown",
      "source": [
        "Logistic regression is chosen for binary classification tasks where the target variable has two possible outcomes. It's a straightforward, efficient, and easy-to-interpret modeling technique for binary classification.\n",
        "\n"
      ],
      "metadata": {
        "id": "DhEvsdO9r6rU"
      }
    },
    {
      "cell_type": "code",
      "source": [
        "from sklearn.linear_model import LogisticRegression\n",
        "\n",
        "model = LogisticRegression()\n",
        "\n",
        "model.fit(X_train, y_train)\n"
      ],
      "metadata": {
        "colab": {
          "base_uri": "https://localhost:8080/",
          "height": 75
        },
        "id": "aEed-gifJpku",
        "outputId": "a7750195-e19c-4429-aa11-4d635485f9a4"
      },
      "execution_count": null,
      "outputs": [
        {
          "output_type": "execute_result",
          "data": {
            "text/plain": [
              "LogisticRegression()"
            ],
            "text/html": [
              "<style>#sk-container-id-1 {color: black;background-color: white;}#sk-container-id-1 pre{padding: 0;}#sk-container-id-1 div.sk-toggleable {background-color: white;}#sk-container-id-1 label.sk-toggleable__label {cursor: pointer;display: block;width: 100%;margin-bottom: 0;padding: 0.3em;box-sizing: border-box;text-align: center;}#sk-container-id-1 label.sk-toggleable__label-arrow:before {content: \"▸\";float: left;margin-right: 0.25em;color: #696969;}#sk-container-id-1 label.sk-toggleable__label-arrow:hover:before {color: black;}#sk-container-id-1 div.sk-estimator:hover label.sk-toggleable__label-arrow:before {color: black;}#sk-container-id-1 div.sk-toggleable__content {max-height: 0;max-width: 0;overflow: hidden;text-align: left;background-color: #f0f8ff;}#sk-container-id-1 div.sk-toggleable__content pre {margin: 0.2em;color: black;border-radius: 0.25em;background-color: #f0f8ff;}#sk-container-id-1 input.sk-toggleable__control:checked~div.sk-toggleable__content {max-height: 200px;max-width: 100%;overflow: auto;}#sk-container-id-1 input.sk-toggleable__control:checked~label.sk-toggleable__label-arrow:before {content: \"▾\";}#sk-container-id-1 div.sk-estimator input.sk-toggleable__control:checked~label.sk-toggleable__label {background-color: #d4ebff;}#sk-container-id-1 div.sk-label input.sk-toggleable__control:checked~label.sk-toggleable__label {background-color: #d4ebff;}#sk-container-id-1 input.sk-hidden--visually {border: 0;clip: rect(1px 1px 1px 1px);clip: rect(1px, 1px, 1px, 1px);height: 1px;margin: -1px;overflow: hidden;padding: 0;position: absolute;width: 1px;}#sk-container-id-1 div.sk-estimator {font-family: monospace;background-color: #f0f8ff;border: 1px dotted black;border-radius: 0.25em;box-sizing: border-box;margin-bottom: 0.5em;}#sk-container-id-1 div.sk-estimator:hover {background-color: #d4ebff;}#sk-container-id-1 div.sk-parallel-item::after {content: \"\";width: 100%;border-bottom: 1px solid gray;flex-grow: 1;}#sk-container-id-1 div.sk-label:hover label.sk-toggleable__label {background-color: #d4ebff;}#sk-container-id-1 div.sk-serial::before {content: \"\";position: absolute;border-left: 1px solid gray;box-sizing: border-box;top: 0;bottom: 0;left: 50%;z-index: 0;}#sk-container-id-1 div.sk-serial {display: flex;flex-direction: column;align-items: center;background-color: white;padding-right: 0.2em;padding-left: 0.2em;position: relative;}#sk-container-id-1 div.sk-item {position: relative;z-index: 1;}#sk-container-id-1 div.sk-parallel {display: flex;align-items: stretch;justify-content: center;background-color: white;position: relative;}#sk-container-id-1 div.sk-item::before, #sk-container-id-1 div.sk-parallel-item::before {content: \"\";position: absolute;border-left: 1px solid gray;box-sizing: border-box;top: 0;bottom: 0;left: 50%;z-index: -1;}#sk-container-id-1 div.sk-parallel-item {display: flex;flex-direction: column;z-index: 1;position: relative;background-color: white;}#sk-container-id-1 div.sk-parallel-item:first-child::after {align-self: flex-end;width: 50%;}#sk-container-id-1 div.sk-parallel-item:last-child::after {align-self: flex-start;width: 50%;}#sk-container-id-1 div.sk-parallel-item:only-child::after {width: 0;}#sk-container-id-1 div.sk-dashed-wrapped {border: 1px dashed gray;margin: 0 0.4em 0.5em 0.4em;box-sizing: border-box;padding-bottom: 0.4em;background-color: white;}#sk-container-id-1 div.sk-label label {font-family: monospace;font-weight: bold;display: inline-block;line-height: 1.2em;}#sk-container-id-1 div.sk-label-container {text-align: center;}#sk-container-id-1 div.sk-container {/* jupyter's `normalize.less` sets `[hidden] { display: none; }` but bootstrap.min.css set `[hidden] { display: none !important; }` so we also need the `!important` here to be able to override the default hidden behavior on the sphinx rendered scikit-learn.org. See: https://github.com/scikit-learn/scikit-learn/issues/21755 */display: inline-block !important;position: relative;}#sk-container-id-1 div.sk-text-repr-fallback {display: none;}</style><div id=\"sk-container-id-1\" class=\"sk-top-container\"><div class=\"sk-text-repr-fallback\"><pre>LogisticRegression()</pre><b>In a Jupyter environment, please rerun this cell to show the HTML representation or trust the notebook. <br />On GitHub, the HTML representation is unable to render, please try loading this page with nbviewer.org.</b></div><div class=\"sk-container\" hidden><div class=\"sk-item\"><div class=\"sk-estimator sk-toggleable\"><input class=\"sk-toggleable__control sk-hidden--visually\" id=\"sk-estimator-id-1\" type=\"checkbox\" checked><label for=\"sk-estimator-id-1\" class=\"sk-toggleable__label sk-toggleable__label-arrow\">LogisticRegression</label><div class=\"sk-toggleable__content\"><pre>LogisticRegression()</pre></div></div></div></div></div>"
            ]
          },
          "metadata": {},
          "execution_count": 6
        }
      ]
    },
    {
      "cell_type": "markdown",
      "source": [
        "# **Step 3: Evaluate the model using accuracy and confusion matrix**"
      ],
      "metadata": {
        "id": "YZuIOh7CsBfm"
      }
    },
    {
      "cell_type": "markdown",
      "source": [
        "Once the model is trained, the next step is to evaluate its performance using appropriate metrics. For classification tasks, common metrics include accuracy and the confusion matrix. Accuracy measures the overall correctness of the model, while the confusion matrix provides insight into the types of errors made by the model (e.g., false positives and false negatives)."
      ],
      "metadata": {
        "id": "NbWXxm7vsEdi"
      }
    },
    {
      "cell_type": "code",
      "source": [
        "from sklearn.metrics import accuracy_score, confusion_matrix\n",
        "\n",
        "# Predict the test set results\n",
        "y_pred = model.predict(X_test)\n",
        "\n",
        "# Calculate and print the accuracy\n",
        "accuracy = accuracy_score(y_test, y_pred)\n",
        "print(f\"Accuracy: {accuracy:.2f}\")\n",
        "\n",
        "# Generate and display the confusion matrix\n",
        "conf_matrix = confusion_matrix(y_test, y_pred)\n",
        "print(\"Confusion Matrix:\")\n",
        "print(conf_matrix)\n"
      ],
      "metadata": {
        "colab": {
          "base_uri": "https://localhost:8080/"
        },
        "id": "cUupBxT5JuxE",
        "outputId": "2d2e2419-20d8-45a1-9f75-b61b305fd6a8"
      },
      "execution_count": null,
      "outputs": [
        {
          "output_type": "stream",
          "name": "stdout",
          "text": [
            "Accuracy: 0.25\n",
            "Confusion Matrix:\n",
            "[[3 7]\n",
            " [8 2]]\n"
          ]
        }
      ]
    },
    {
      "cell_type": "markdown",
      "source": [
        "# **Explanation of the choice of logistic regression**\n",
        "\n",
        "Logistic regression is a suitable model for the following reasons:\n",
        "\n",
        "**1.Binary Outcome**: Logistic regression is specifically designed for binary classification problems. It models the probability that a given input belongs to a class labeled '1' (in this case, 'Subscribed') using a logistic function.\n",
        "\n",
        "**2.Interpretability:** Logistic regression provides coefficients that indicate the importance and effect of each feature on the likelihood of subscribing, which can be crucial for business insights.\n",
        "\n",
        "**3.Efficiency:** It's computationally efficient for smaller datasets and provides a good baseline model to compare against more complex algorithms.\n",
        "\n",
        "**4.Foundation Model:** Logistic regression is often used as a baseline in binary classification problems. If it performs adequately, more complex models may not be necessary. If it underperforms, the results can guide further feature engineering and the application of more complex algorithms.\n",
        "\n",
        "These attributes make logistic regression a common first choice for binary classification problems, especially when the aim is to quickly ascertain potential relationships between features and outcomes."
      ],
      "metadata": {
        "id": "bNPD4RYlsQq0"
      }
    },
    {
      "cell_type": "markdown",
      "source": [
        "# **QUESTION 2:**\n",
        "\n",
        "## **Scenario and Tasks:**\n",
        "\n",
        "Predict whether a customer will subscribe using logistic regression, then evaluate the model using accuracy and a confusion matrix.\n",
        "\n",
        "## **Steps Taken:**\n",
        "\n",
        "**1**. **Split the Dataset:** Ensures that the model is tested on unseen data, providing insight into its likely real-world performance.\n",
        "\n",
        "**2**. **Train Logistic Regression:** Chosen for its effectiveness in binary classification.\n",
        "\n",
        "**3. Evaluate with Accuracy and Confusion Matrix:** Provides both an overall accuracy score and a detailed breakdown of true positives, false positives, true negatives, and false negatives.\n",
        "\n",
        "**Why Logistic Regression:**\n",
        "\n",
        "**Suitable for Binary Outcomes**: Logistic regression is designed specifically for binary classification tasks.\n",
        "\n",
        "**Model Interpretability**: Offers understandable coefficients that represent the relationship between feature changes and the likelihood of outcomes.\n",
        "Confusion Matrix Insights:\n",
        "\n",
        "**Performance Clarity**: Helps identify how well the model is classifying each class and where it might be making errors, such as confusing negatives for positives and vice versa."
      ],
      "metadata": {
        "id": "MmuCGA9hlSbd"
      }
    },
    {
      "cell_type": "markdown",
      "source": [
        "# **QUESTION 2 ENDING**"
      ],
      "metadata": {
        "id": "3QPX8ouimI61"
      }
    },
    {
      "cell_type": "code",
      "source": [],
      "metadata": {
        "id": "EO1OSRhQJ3VR"
      },
      "execution_count": null,
      "outputs": []
    },
    {
      "cell_type": "markdown",
      "source": [
        "# **Question 3: Neural Network Design**\n",
        "\n",
        "Scenario: You are tasked with designing a neural network using TensorFlow to classify images\n",
        "into three categories based on their pixel values in images.csv.\n",
        "\n",
        "# **Tasks:**\n",
        "\n",
        "Define a neural network architecture suitable for this task.\n",
        "\n",
        "Compile the model with appropriate loss function and optimizer.\n",
        "\n",
        "Provide a brief explanation of your chosen architecture and settings.\n",
        "\n",
        "# **Explanation:**\n",
        "\n",
        "Explain why you chose the specific architecture and settings for this problem."
      ],
      "metadata": {
        "id": "veOLyfpCkz1M"
      }
    },
    {
      "cell_type": "markdown",
      "source": [
        "# **Step 1: Define the Neural Network Architecture**"
      ],
      "metadata": {
        "id": "Ry2T8xSPGnGh"
      }
    },
    {
      "cell_type": "markdown",
      "source": [
        "For image classification tasks, convolutional neural networks (CNNs) are typically very effective as they can pick up on patterns in spatial data (like images) more effectively than fully connected layers alone. Here's a simple yet effective CNN architecture:\n"
      ],
      "metadata": {
        "id": "-iCWXP2ctTj0"
      }
    },
    {
      "cell_type": "code",
      "execution_count": null,
      "metadata": {
        "id": "Vn_oOkfJigqJ"
      },
      "outputs": [],
      "source": [
        "import numpy as np\n",
        "import pandas as pd\n",
        "import matplotlib.pyplot as plt\n",
        "import seaborn as sns\n",
        "import tensorflow as tf"
      ]
    },
    {
      "cell_type": "code",
      "source": [
        "data = pd.read_csv('/content/ImageData.csv')\n",
        "data.head(5)"
      ],
      "metadata": {
        "colab": {
          "base_uri": "https://localhost:8080/",
          "height": 206
        },
        "id": "CXPbM8bEijL1",
        "outputId": "88e8f9db-c79c-45d6-d6c9-d7ae41d846ab"
      },
      "execution_count": null,
      "outputs": [
        {
          "output_type": "execute_result",
          "data": {
            "text/plain": [
              "     Pixel1    Pixel2    Pixel3   Category\n",
              "0  0.346929  0.083217  0.762398  Category3\n",
              "1  0.435445  0.912336  0.349966  Category3\n",
              "2  0.661136  0.518014  0.649803  Category1\n",
              "3  0.961038  0.400096  0.227735  Category1\n",
              "4  0.229374  0.104190  0.826706  Category2"
            ],
            "text/html": [
              "\n",
              "  <div id=\"df-8016f8b8-6df6-4032-9f57-82131bb2e712\" class=\"colab-df-container\">\n",
              "    <div>\n",
              "<style scoped>\n",
              "    .dataframe tbody tr th:only-of-type {\n",
              "        vertical-align: middle;\n",
              "    }\n",
              "\n",
              "    .dataframe tbody tr th {\n",
              "        vertical-align: top;\n",
              "    }\n",
              "\n",
              "    .dataframe thead th {\n",
              "        text-align: right;\n",
              "    }\n",
              "</style>\n",
              "<table border=\"1\" class=\"dataframe\">\n",
              "  <thead>\n",
              "    <tr style=\"text-align: right;\">\n",
              "      <th></th>\n",
              "      <th>Pixel1</th>\n",
              "      <th>Pixel2</th>\n",
              "      <th>Pixel3</th>\n",
              "      <th>Category</th>\n",
              "    </tr>\n",
              "  </thead>\n",
              "  <tbody>\n",
              "    <tr>\n",
              "      <th>0</th>\n",
              "      <td>0.346929</td>\n",
              "      <td>0.083217</td>\n",
              "      <td>0.762398</td>\n",
              "      <td>Category3</td>\n",
              "    </tr>\n",
              "    <tr>\n",
              "      <th>1</th>\n",
              "      <td>0.435445</td>\n",
              "      <td>0.912336</td>\n",
              "      <td>0.349966</td>\n",
              "      <td>Category3</td>\n",
              "    </tr>\n",
              "    <tr>\n",
              "      <th>2</th>\n",
              "      <td>0.661136</td>\n",
              "      <td>0.518014</td>\n",
              "      <td>0.649803</td>\n",
              "      <td>Category1</td>\n",
              "    </tr>\n",
              "    <tr>\n",
              "      <th>3</th>\n",
              "      <td>0.961038</td>\n",
              "      <td>0.400096</td>\n",
              "      <td>0.227735</td>\n",
              "      <td>Category1</td>\n",
              "    </tr>\n",
              "    <tr>\n",
              "      <th>4</th>\n",
              "      <td>0.229374</td>\n",
              "      <td>0.104190</td>\n",
              "      <td>0.826706</td>\n",
              "      <td>Category2</td>\n",
              "    </tr>\n",
              "  </tbody>\n",
              "</table>\n",
              "</div>\n",
              "    <div class=\"colab-df-buttons\">\n",
              "\n",
              "  <div class=\"colab-df-container\">\n",
              "    <button class=\"colab-df-convert\" onclick=\"convertToInteractive('df-8016f8b8-6df6-4032-9f57-82131bb2e712')\"\n",
              "            title=\"Convert this dataframe to an interactive table.\"\n",
              "            style=\"display:none;\">\n",
              "\n",
              "  <svg xmlns=\"http://www.w3.org/2000/svg\" height=\"24px\" viewBox=\"0 -960 960 960\">\n",
              "    <path d=\"M120-120v-720h720v720H120Zm60-500h600v-160H180v160Zm220 220h160v-160H400v160Zm0 220h160v-160H400v160ZM180-400h160v-160H180v160Zm440 0h160v-160H620v160ZM180-180h160v-160H180v160Zm440 0h160v-160H620v160Z\"/>\n",
              "  </svg>\n",
              "    </button>\n",
              "\n",
              "  <style>\n",
              "    .colab-df-container {\n",
              "      display:flex;\n",
              "      gap: 12px;\n",
              "    }\n",
              "\n",
              "    .colab-df-convert {\n",
              "      background-color: #E8F0FE;\n",
              "      border: none;\n",
              "      border-radius: 50%;\n",
              "      cursor: pointer;\n",
              "      display: none;\n",
              "      fill: #1967D2;\n",
              "      height: 32px;\n",
              "      padding: 0 0 0 0;\n",
              "      width: 32px;\n",
              "    }\n",
              "\n",
              "    .colab-df-convert:hover {\n",
              "      background-color: #E2EBFA;\n",
              "      box-shadow: 0px 1px 2px rgba(60, 64, 67, 0.3), 0px 1px 3px 1px rgba(60, 64, 67, 0.15);\n",
              "      fill: #174EA6;\n",
              "    }\n",
              "\n",
              "    .colab-df-buttons div {\n",
              "      margin-bottom: 4px;\n",
              "    }\n",
              "\n",
              "    [theme=dark] .colab-df-convert {\n",
              "      background-color: #3B4455;\n",
              "      fill: #D2E3FC;\n",
              "    }\n",
              "\n",
              "    [theme=dark] .colab-df-convert:hover {\n",
              "      background-color: #434B5C;\n",
              "      box-shadow: 0px 1px 3px 1px rgba(0, 0, 0, 0.15);\n",
              "      filter: drop-shadow(0px 1px 2px rgba(0, 0, 0, 0.3));\n",
              "      fill: #FFFFFF;\n",
              "    }\n",
              "  </style>\n",
              "\n",
              "    <script>\n",
              "      const buttonEl =\n",
              "        document.querySelector('#df-8016f8b8-6df6-4032-9f57-82131bb2e712 button.colab-df-convert');\n",
              "      buttonEl.style.display =\n",
              "        google.colab.kernel.accessAllowed ? 'block' : 'none';\n",
              "\n",
              "      async function convertToInteractive(key) {\n",
              "        const element = document.querySelector('#df-8016f8b8-6df6-4032-9f57-82131bb2e712');\n",
              "        const dataTable =\n",
              "          await google.colab.kernel.invokeFunction('convertToInteractive',\n",
              "                                                    [key], {});\n",
              "        if (!dataTable) return;\n",
              "\n",
              "        const docLinkHtml = 'Like what you see? Visit the ' +\n",
              "          '<a target=\"_blank\" href=https://colab.research.google.com/notebooks/data_table.ipynb>data table notebook</a>'\n",
              "          + ' to learn more about interactive tables.';\n",
              "        element.innerHTML = '';\n",
              "        dataTable['output_type'] = 'display_data';\n",
              "        await google.colab.output.renderOutput(dataTable, element);\n",
              "        const docLink = document.createElement('div');\n",
              "        docLink.innerHTML = docLinkHtml;\n",
              "        element.appendChild(docLink);\n",
              "      }\n",
              "    </script>\n",
              "  </div>\n",
              "\n",
              "\n",
              "<div id=\"df-1ced00da-25f3-4b26-92ab-4fcf19a6afc5\">\n",
              "  <button class=\"colab-df-quickchart\" onclick=\"quickchart('df-1ced00da-25f3-4b26-92ab-4fcf19a6afc5')\"\n",
              "            title=\"Suggest charts\"\n",
              "            style=\"display:none;\">\n",
              "\n",
              "<svg xmlns=\"http://www.w3.org/2000/svg\" height=\"24px\"viewBox=\"0 0 24 24\"\n",
              "     width=\"24px\">\n",
              "    <g>\n",
              "        <path d=\"M19 3H5c-1.1 0-2 .9-2 2v14c0 1.1.9 2 2 2h14c1.1 0 2-.9 2-2V5c0-1.1-.9-2-2-2zM9 17H7v-7h2v7zm4 0h-2V7h2v10zm4 0h-2v-4h2v4z\"/>\n",
              "    </g>\n",
              "</svg>\n",
              "  </button>\n",
              "\n",
              "<style>\n",
              "  .colab-df-quickchart {\n",
              "      --bg-color: #E8F0FE;\n",
              "      --fill-color: #1967D2;\n",
              "      --hover-bg-color: #E2EBFA;\n",
              "      --hover-fill-color: #174EA6;\n",
              "      --disabled-fill-color: #AAA;\n",
              "      --disabled-bg-color: #DDD;\n",
              "  }\n",
              "\n",
              "  [theme=dark] .colab-df-quickchart {\n",
              "      --bg-color: #3B4455;\n",
              "      --fill-color: #D2E3FC;\n",
              "      --hover-bg-color: #434B5C;\n",
              "      --hover-fill-color: #FFFFFF;\n",
              "      --disabled-bg-color: #3B4455;\n",
              "      --disabled-fill-color: #666;\n",
              "  }\n",
              "\n",
              "  .colab-df-quickchart {\n",
              "    background-color: var(--bg-color);\n",
              "    border: none;\n",
              "    border-radius: 50%;\n",
              "    cursor: pointer;\n",
              "    display: none;\n",
              "    fill: var(--fill-color);\n",
              "    height: 32px;\n",
              "    padding: 0;\n",
              "    width: 32px;\n",
              "  }\n",
              "\n",
              "  .colab-df-quickchart:hover {\n",
              "    background-color: var(--hover-bg-color);\n",
              "    box-shadow: 0 1px 2px rgba(60, 64, 67, 0.3), 0 1px 3px 1px rgba(60, 64, 67, 0.15);\n",
              "    fill: var(--button-hover-fill-color);\n",
              "  }\n",
              "\n",
              "  .colab-df-quickchart-complete:disabled,\n",
              "  .colab-df-quickchart-complete:disabled:hover {\n",
              "    background-color: var(--disabled-bg-color);\n",
              "    fill: var(--disabled-fill-color);\n",
              "    box-shadow: none;\n",
              "  }\n",
              "\n",
              "  .colab-df-spinner {\n",
              "    border: 2px solid var(--fill-color);\n",
              "    border-color: transparent;\n",
              "    border-bottom-color: var(--fill-color);\n",
              "    animation:\n",
              "      spin 1s steps(1) infinite;\n",
              "  }\n",
              "\n",
              "  @keyframes spin {\n",
              "    0% {\n",
              "      border-color: transparent;\n",
              "      border-bottom-color: var(--fill-color);\n",
              "      border-left-color: var(--fill-color);\n",
              "    }\n",
              "    20% {\n",
              "      border-color: transparent;\n",
              "      border-left-color: var(--fill-color);\n",
              "      border-top-color: var(--fill-color);\n",
              "    }\n",
              "    30% {\n",
              "      border-color: transparent;\n",
              "      border-left-color: var(--fill-color);\n",
              "      border-top-color: var(--fill-color);\n",
              "      border-right-color: var(--fill-color);\n",
              "    }\n",
              "    40% {\n",
              "      border-color: transparent;\n",
              "      border-right-color: var(--fill-color);\n",
              "      border-top-color: var(--fill-color);\n",
              "    }\n",
              "    60% {\n",
              "      border-color: transparent;\n",
              "      border-right-color: var(--fill-color);\n",
              "    }\n",
              "    80% {\n",
              "      border-color: transparent;\n",
              "      border-right-color: var(--fill-color);\n",
              "      border-bottom-color: var(--fill-color);\n",
              "    }\n",
              "    90% {\n",
              "      border-color: transparent;\n",
              "      border-bottom-color: var(--fill-color);\n",
              "    }\n",
              "  }\n",
              "</style>\n",
              "\n",
              "  <script>\n",
              "    async function quickchart(key) {\n",
              "      const quickchartButtonEl =\n",
              "        document.querySelector('#' + key + ' button');\n",
              "      quickchartButtonEl.disabled = true;  // To prevent multiple clicks.\n",
              "      quickchartButtonEl.classList.add('colab-df-spinner');\n",
              "      try {\n",
              "        const charts = await google.colab.kernel.invokeFunction(\n",
              "            'suggestCharts', [key], {});\n",
              "      } catch (error) {\n",
              "        console.error('Error during call to suggestCharts:', error);\n",
              "      }\n",
              "      quickchartButtonEl.classList.remove('colab-df-spinner');\n",
              "      quickchartButtonEl.classList.add('colab-df-quickchart-complete');\n",
              "    }\n",
              "    (() => {\n",
              "      let quickchartButtonEl =\n",
              "        document.querySelector('#df-1ced00da-25f3-4b26-92ab-4fcf19a6afc5 button');\n",
              "      quickchartButtonEl.style.display =\n",
              "        google.colab.kernel.accessAllowed ? 'block' : 'none';\n",
              "    })();\n",
              "  </script>\n",
              "</div>\n",
              "\n",
              "    </div>\n",
              "  </div>\n"
            ],
            "application/vnd.google.colaboratory.intrinsic+json": {
              "type": "dataframe",
              "variable_name": "data",
              "summary": "{\n  \"name\": \"data\",\n  \"rows\": 100,\n  \"fields\": [\n    {\n      \"column\": \"Pixel1\",\n      \"properties\": {\n        \"dtype\": \"number\",\n        \"std\": 0.2840207850695497,\n        \"min\": 0.0199418252005412,\n        \"max\": 0.9938838511442736,\n        \"num_unique_values\": 100,\n        \"samples\": [\n          0.3577315197403666,\n          0.2420153699790399,\n          0.3020168738076356\n        ],\n        \"semantic_type\": \"\",\n        \"description\": \"\"\n      }\n    },\n    {\n      \"column\": \"Pixel2\",\n      \"properties\": {\n        \"dtype\": \"number\",\n        \"std\": 0.2864703224942193,\n        \"min\": 0.001026594117281,\n        \"max\": 0.9779921201618422,\n        \"num_unique_values\": 100,\n        \"samples\": [\n          0.0250189309064303,\n          0.4181341764151426,\n          0.2822542213837146\n        ],\n        \"semantic_type\": \"\",\n        \"description\": \"\"\n      }\n    },\n    {\n      \"column\": \"Pixel3\",\n      \"properties\": {\n        \"dtype\": \"number\",\n        \"std\": 0.29683614923684026,\n        \"min\": 0.0035963577614646,\n        \"max\": 0.9774358809333896,\n        \"num_unique_values\": 100,\n        \"samples\": [\n          0.6295394639538359,\n          0.04303400816861,\n          0.0035963577614646\n        ],\n        \"semantic_type\": \"\",\n        \"description\": \"\"\n      }\n    },\n    {\n      \"column\": \"Category\",\n      \"properties\": {\n        \"dtype\": \"category\",\n        \"num_unique_values\": 3,\n        \"samples\": [\n          \"Category3\",\n          \"Category1\",\n          \"Category2\"\n        ],\n        \"semantic_type\": \"\",\n        \"description\": \"\"\n      }\n    }\n  ]\n}"
            }
          },
          "metadata": {},
          "execution_count": 3
        }
      ]
    },
    {
      "cell_type": "code",
      "source": [
        "import tensorflow as tf\n",
        "from tensorflow.keras.models import Sequential\n",
        "from tensorflow.keras.layers import Conv2D, MaxPooling2D, Flatten, Dense, Dropout\n",
        "\n",
        "# Define the model\n",
        "model = Sequential([\n",
        "    # First convolutional layer\n",
        "    Conv2D(32, (3, 3), activation='relu', input_shape=(64, 64, 3)),  # Adjust input_shape based on your data\n",
        "    MaxPooling2D(2, 2),\n",
        "\n",
        "    # Second convolutional layer\n",
        "    Conv2D(64, (3, 3), activation='relu'),\n",
        "    MaxPooling2D(2, 2),\n",
        "\n",
        "    # Third convolutional layer\n",
        "    Conv2D(128, (3, 3), activation='relu'),\n",
        "    MaxPooling2D(2, 2),\n",
        "\n",
        "    # Flatten the output of the convolutions\n",
        "    Flatten(),\n",
        "\n",
        "    # Dense layer for classification\n",
        "    Dense(128, activation='relu'),\n",
        "    Dropout(0.5),\n",
        "\n",
        "    # Output layer with softmax activation for multi-class classification\n",
        "    Dense(3, activation='softmax')\n",
        "])\n"
      ],
      "metadata": {
        "id": "ULl09nMyizzt"
      },
      "execution_count": null,
      "outputs": []
    },
    {
      "cell_type": "markdown",
      "source": [
        "# **Step 2: Compile the Model**"
      ],
      "metadata": {
        "id": "B85vHiVgtaos"
      }
    },
    {
      "cell_type": "markdown",
      "source": [
        "For a multi-class classification problem, the appropriate loss function is categorical_crossentropy if your targets are one-hot encoded, or sparse_categorical_crossentropy if they are integers. Here, we'll assume the targets are one-hot encoded. We'll also use the Adam optimizer as it generally performs well in various settings due to its adaptive learning rate capabilities.\n"
      ],
      "metadata": {
        "id": "F_f-qDfOtft8"
      }
    },
    {
      "cell_type": "code",
      "source": [
        "# Compile the model\n",
        "model.compile(\n",
        "    optimizer='adam',\n",
        "    loss='categorical_crossentropy',\n",
        "    metrics=['accuracy']\n",
        ")\n"
      ],
      "metadata": {
        "id": "MZmLwFV1i6F4"
      },
      "execution_count": null,
      "outputs": []
    },
    {
      "cell_type": "markdown",
      "source": [
        "# **Explanation of the Chosen Architecture and Settings**\n",
        "\n",
        "## **Architecture:**\n",
        "\n",
        "**Convolutional Layers**: These layers are essential for image processing, as they help the model learn the image features effectively without the need for manual feature extraction. Each layer captures more complex patterns in the image.\n",
        "\n",
        "**Pooling Layers:** These reduce the spatial size of the representation, which decreases the parameter counts, reducing computation and helping in controlling overfitting.\n",
        "\n",
        "**ReLU Activation:** It introduces non-linearity to the model, helping it learn more complex patterns in the data.\n",
        "\n",
        "**Flatten Layer:** This layer converts the 2D feature maps into 1D feature vectors, necessary for the fully connected layers that follow.\n",
        "\n",
        "**Dense Layers:** A fully connected layer that interprets the features extracted by the convolutions and pooling layers.\n",
        "\n",
        "**Dropout:** This layer randomly sets a fraction of input units to 0 at each update during training, which helps prevent overfitting.\n",
        "\n",
        "**Compile Settings:**\n",
        "\n",
        "**Adam Optimizer:** Adam is effective and efficient for most deep learning tasks as it automatically adjusts the learning rate during training.\n",
        "\n",
        "**Categorical Crossentropy**: Since this is a multi-class classification problem, categorical crossentropy is used as it measures the loss between the predicted values and the true values, properly penalizing incorrect classifications.\n",
        "\n",
        "This architecture and these settings are suitable for starting the training of a model for classifying images into three categories. This setup can be modified based on model performance and computational efficiency requirements, and further fine-tuning can be applied after initial experiments."
      ],
      "metadata": {
        "id": "w_FtX_NPtuxm"
      }
    },
    {
      "cell_type": "markdown",
      "source": [
        "# **QUESTION 3**\n",
        "**Scenario and Tasks:**\n",
        "\n",
        "Design a TensorFlow neural network to classify images into three categories.\n",
        "\n",
        "**Chosen Architecture:**\n",
        "\n",
        "A CNN with several convolutional and pooling layers followed by dense layers for classification.\n",
        "\n",
        "**Why This Architecture:**\n",
        "\n",
        "* **CNNs for Spatial Data**: Best suited for handling image data due to their\n",
        "   ability to capture spatial hierarchies in images.\n",
        "\n",
        "* **Efficiency and Effectiveness**: Layers like pooling reduce computational\n",
        "   load and model complexity, while dropout layers help in preventing overfitting.\n"
      ],
      "metadata": {
        "id": "wySpSreDmbVh"
      }
    },
    {
      "cell_type": "code",
      "source": [],
      "metadata": {
        "id": "UEIqW6E6pHGF"
      },
      "execution_count": null,
      "outputs": []
    },
    {
      "cell_type": "markdown",
      "source": [
        "# **QUESTION 3 : ENDING**"
      ],
      "metadata": {
        "id": "4TBlaznlm-Kc"
      }
    },
    {
      "cell_type": "code",
      "source": [],
      "metadata": {
        "id": "mZTRXP5UnFLk"
      },
      "execution_count": null,
      "outputs": []
    },
    {
      "cell_type": "markdown",
      "source": [
        "# **Question 4: Natural Language Processing (NLP)**\n",
        "\n",
        "Scenario: You need to develop a sentiment analysis model using data from reviews.csv, where\n",
        "each review text needs to be classified as positive or negative.\n",
        "\n",
        "# **Tasks:**\n",
        "\n",
        "Preprocess the text data for model input.\n",
        "\n",
        "Use a pre-trained model from TensorFlow Hub and fine-tune it on your dataset.\n",
        "\n",
        "Evaluate the model's performance.\n",
        "\n",
        "# **Explanation:**\n",
        "\n",
        "Describe the preprocessing steps and why they are necessary for NLP tasks.\n",
        "Explain the choice of using a pre-trained model and the benefits of fine-tuning."
      ],
      "metadata": {
        "id": "BQKJED7enND4"
      }
    },
    {
      "cell_type": "markdown",
      "source": [
        "# **Step 1: Preprocess the Text Data for Model Input**"
      ],
      "metadata": {
        "id": "ARRTeWq3uxH7"
      }
    },
    {
      "cell_type": "markdown",
      "source": [
        "For any Natural Language Processing (NLP) task, preprocessing the text data is crucial to ensure that the model receives input that maximizes its ability to learn meaningful patterns. Here's how you might approach preprocessing for sentiment analysis:\n",
        "\n",
        "**Text Preprocessing Steps**\n",
        "\n",
        "**1.Lowercasing:** Convert all characters in the text to lowercase to reduce the complexity of the model (e.g., treating \"Good\" and \"good\" as the same word).\n",
        "\n",
        "**2.Tokenization:** Split text into words or tokens. This helps in converting text into a form that's easier for the models to process.\n",
        "\n",
        "**3.Removing Punctuation and Special Characters:** Punctuation can often be irrelevant in understanding sentiment and might introduce noise into the data.\n",
        "\n",
        "**4.Removing Stop Words:** Stop words (like \"the\", \"is\", \"at\", etc.) are frequently occurring words that are unlikely to contribute to sentiment and can be removed.\n",
        "\n",
        "**5.Stemming or Lemmatization:** Reducing words to their base or root form. While not always necessary, it can help in reducing the number of total unique words the model needs to learn about."
      ],
      "metadata": {
        "id": "vlLrjFNMu5oo"
      }
    },
    {
      "cell_type": "code",
      "execution_count": null,
      "metadata": {
        "id": "_uMZ7KuEnsCK"
      },
      "outputs": [],
      "source": [
        "import numpy as np\n",
        "import pandas as pd\n",
        "import matplotlib.pyplot as plt\n",
        "import seaborn as sns\n",
        "import nltk\n",
        "from nltk.corpus import stopwords\n",
        "from nltk.tokenize import word_tokenize\n",
        "from nltk.stem import WordNetLemmatizer\n",
        "from sklearn.model_selection import train_test_split"
      ]
    },
    {
      "cell_type": "code",
      "source": [
        "data = pd.read_csv('/content/ReviewData.csv')\n",
        "data.head()"
      ],
      "metadata": {
        "colab": {
          "base_uri": "https://localhost:8080/",
          "height": 206
        },
        "id": "van4eouSKRFl",
        "outputId": "fceffacc-d3dc-41a6-a1d3-21dca3732176"
      },
      "execution_count": null,
      "outputs": [
        {
          "output_type": "execute_result",
          "data": {
            "text/plain": [
              "                              Review Sentiment\n",
              "0  Love this product, it is amazing!  Negative\n",
              "1   Hated it, would never buy again.  Negative\n",
              "2      Not bad, but could be better.  Negative\n",
              "3  The best purchase I've ever made!  Negative\n",
              "4     Terrible, broke after one use.  Negative"
            ],
            "text/html": [
              "\n",
              "  <div id=\"df-efed69bd-f3a3-4d33-9105-e4e4c37fcbc2\" class=\"colab-df-container\">\n",
              "    <div>\n",
              "<style scoped>\n",
              "    .dataframe tbody tr th:only-of-type {\n",
              "        vertical-align: middle;\n",
              "    }\n",
              "\n",
              "    .dataframe tbody tr th {\n",
              "        vertical-align: top;\n",
              "    }\n",
              "\n",
              "    .dataframe thead th {\n",
              "        text-align: right;\n",
              "    }\n",
              "</style>\n",
              "<table border=\"1\" class=\"dataframe\">\n",
              "  <thead>\n",
              "    <tr style=\"text-align: right;\">\n",
              "      <th></th>\n",
              "      <th>Review</th>\n",
              "      <th>Sentiment</th>\n",
              "    </tr>\n",
              "  </thead>\n",
              "  <tbody>\n",
              "    <tr>\n",
              "      <th>0</th>\n",
              "      <td>Love this product, it is amazing!</td>\n",
              "      <td>Negative</td>\n",
              "    </tr>\n",
              "    <tr>\n",
              "      <th>1</th>\n",
              "      <td>Hated it, would never buy again.</td>\n",
              "      <td>Negative</td>\n",
              "    </tr>\n",
              "    <tr>\n",
              "      <th>2</th>\n",
              "      <td>Not bad, but could be better.</td>\n",
              "      <td>Negative</td>\n",
              "    </tr>\n",
              "    <tr>\n",
              "      <th>3</th>\n",
              "      <td>The best purchase I've ever made!</td>\n",
              "      <td>Negative</td>\n",
              "    </tr>\n",
              "    <tr>\n",
              "      <th>4</th>\n",
              "      <td>Terrible, broke after one use.</td>\n",
              "      <td>Negative</td>\n",
              "    </tr>\n",
              "  </tbody>\n",
              "</table>\n",
              "</div>\n",
              "    <div class=\"colab-df-buttons\">\n",
              "\n",
              "  <div class=\"colab-df-container\">\n",
              "    <button class=\"colab-df-convert\" onclick=\"convertToInteractive('df-efed69bd-f3a3-4d33-9105-e4e4c37fcbc2')\"\n",
              "            title=\"Convert this dataframe to an interactive table.\"\n",
              "            style=\"display:none;\">\n",
              "\n",
              "  <svg xmlns=\"http://www.w3.org/2000/svg\" height=\"24px\" viewBox=\"0 -960 960 960\">\n",
              "    <path d=\"M120-120v-720h720v720H120Zm60-500h600v-160H180v160Zm220 220h160v-160H400v160Zm0 220h160v-160H400v160ZM180-400h160v-160H180v160Zm440 0h160v-160H620v160ZM180-180h160v-160H180v160Zm440 0h160v-160H620v160Z\"/>\n",
              "  </svg>\n",
              "    </button>\n",
              "\n",
              "  <style>\n",
              "    .colab-df-container {\n",
              "      display:flex;\n",
              "      gap: 12px;\n",
              "    }\n",
              "\n",
              "    .colab-df-convert {\n",
              "      background-color: #E8F0FE;\n",
              "      border: none;\n",
              "      border-radius: 50%;\n",
              "      cursor: pointer;\n",
              "      display: none;\n",
              "      fill: #1967D2;\n",
              "      height: 32px;\n",
              "      padding: 0 0 0 0;\n",
              "      width: 32px;\n",
              "    }\n",
              "\n",
              "    .colab-df-convert:hover {\n",
              "      background-color: #E2EBFA;\n",
              "      box-shadow: 0px 1px 2px rgba(60, 64, 67, 0.3), 0px 1px 3px 1px rgba(60, 64, 67, 0.15);\n",
              "      fill: #174EA6;\n",
              "    }\n",
              "\n",
              "    .colab-df-buttons div {\n",
              "      margin-bottom: 4px;\n",
              "    }\n",
              "\n",
              "    [theme=dark] .colab-df-convert {\n",
              "      background-color: #3B4455;\n",
              "      fill: #D2E3FC;\n",
              "    }\n",
              "\n",
              "    [theme=dark] .colab-df-convert:hover {\n",
              "      background-color: #434B5C;\n",
              "      box-shadow: 0px 1px 3px 1px rgba(0, 0, 0, 0.15);\n",
              "      filter: drop-shadow(0px 1px 2px rgba(0, 0, 0, 0.3));\n",
              "      fill: #FFFFFF;\n",
              "    }\n",
              "  </style>\n",
              "\n",
              "    <script>\n",
              "      const buttonEl =\n",
              "        document.querySelector('#df-efed69bd-f3a3-4d33-9105-e4e4c37fcbc2 button.colab-df-convert');\n",
              "      buttonEl.style.display =\n",
              "        google.colab.kernel.accessAllowed ? 'block' : 'none';\n",
              "\n",
              "      async function convertToInteractive(key) {\n",
              "        const element = document.querySelector('#df-efed69bd-f3a3-4d33-9105-e4e4c37fcbc2');\n",
              "        const dataTable =\n",
              "          await google.colab.kernel.invokeFunction('convertToInteractive',\n",
              "                                                    [key], {});\n",
              "        if (!dataTable) return;\n",
              "\n",
              "        const docLinkHtml = 'Like what you see? Visit the ' +\n",
              "          '<a target=\"_blank\" href=https://colab.research.google.com/notebooks/data_table.ipynb>data table notebook</a>'\n",
              "          + ' to learn more about interactive tables.';\n",
              "        element.innerHTML = '';\n",
              "        dataTable['output_type'] = 'display_data';\n",
              "        await google.colab.output.renderOutput(dataTable, element);\n",
              "        const docLink = document.createElement('div');\n",
              "        docLink.innerHTML = docLinkHtml;\n",
              "        element.appendChild(docLink);\n",
              "      }\n",
              "    </script>\n",
              "  </div>\n",
              "\n",
              "\n",
              "<div id=\"df-c0400def-7437-4d4d-adb1-4e6a044fd9fe\">\n",
              "  <button class=\"colab-df-quickchart\" onclick=\"quickchart('df-c0400def-7437-4d4d-adb1-4e6a044fd9fe')\"\n",
              "            title=\"Suggest charts\"\n",
              "            style=\"display:none;\">\n",
              "\n",
              "<svg xmlns=\"http://www.w3.org/2000/svg\" height=\"24px\"viewBox=\"0 0 24 24\"\n",
              "     width=\"24px\">\n",
              "    <g>\n",
              "        <path d=\"M19 3H5c-1.1 0-2 .9-2 2v14c0 1.1.9 2 2 2h14c1.1 0 2-.9 2-2V5c0-1.1-.9-2-2-2zM9 17H7v-7h2v7zm4 0h-2V7h2v10zm4 0h-2v-4h2v4z\"/>\n",
              "    </g>\n",
              "</svg>\n",
              "  </button>\n",
              "\n",
              "<style>\n",
              "  .colab-df-quickchart {\n",
              "      --bg-color: #E8F0FE;\n",
              "      --fill-color: #1967D2;\n",
              "      --hover-bg-color: #E2EBFA;\n",
              "      --hover-fill-color: #174EA6;\n",
              "      --disabled-fill-color: #AAA;\n",
              "      --disabled-bg-color: #DDD;\n",
              "  }\n",
              "\n",
              "  [theme=dark] .colab-df-quickchart {\n",
              "      --bg-color: #3B4455;\n",
              "      --fill-color: #D2E3FC;\n",
              "      --hover-bg-color: #434B5C;\n",
              "      --hover-fill-color: #FFFFFF;\n",
              "      --disabled-bg-color: #3B4455;\n",
              "      --disabled-fill-color: #666;\n",
              "  }\n",
              "\n",
              "  .colab-df-quickchart {\n",
              "    background-color: var(--bg-color);\n",
              "    border: none;\n",
              "    border-radius: 50%;\n",
              "    cursor: pointer;\n",
              "    display: none;\n",
              "    fill: var(--fill-color);\n",
              "    height: 32px;\n",
              "    padding: 0;\n",
              "    width: 32px;\n",
              "  }\n",
              "\n",
              "  .colab-df-quickchart:hover {\n",
              "    background-color: var(--hover-bg-color);\n",
              "    box-shadow: 0 1px 2px rgba(60, 64, 67, 0.3), 0 1px 3px 1px rgba(60, 64, 67, 0.15);\n",
              "    fill: var(--button-hover-fill-color);\n",
              "  }\n",
              "\n",
              "  .colab-df-quickchart-complete:disabled,\n",
              "  .colab-df-quickchart-complete:disabled:hover {\n",
              "    background-color: var(--disabled-bg-color);\n",
              "    fill: var(--disabled-fill-color);\n",
              "    box-shadow: none;\n",
              "  }\n",
              "\n",
              "  .colab-df-spinner {\n",
              "    border: 2px solid var(--fill-color);\n",
              "    border-color: transparent;\n",
              "    border-bottom-color: var(--fill-color);\n",
              "    animation:\n",
              "      spin 1s steps(1) infinite;\n",
              "  }\n",
              "\n",
              "  @keyframes spin {\n",
              "    0% {\n",
              "      border-color: transparent;\n",
              "      border-bottom-color: var(--fill-color);\n",
              "      border-left-color: var(--fill-color);\n",
              "    }\n",
              "    20% {\n",
              "      border-color: transparent;\n",
              "      border-left-color: var(--fill-color);\n",
              "      border-top-color: var(--fill-color);\n",
              "    }\n",
              "    30% {\n",
              "      border-color: transparent;\n",
              "      border-left-color: var(--fill-color);\n",
              "      border-top-color: var(--fill-color);\n",
              "      border-right-color: var(--fill-color);\n",
              "    }\n",
              "    40% {\n",
              "      border-color: transparent;\n",
              "      border-right-color: var(--fill-color);\n",
              "      border-top-color: var(--fill-color);\n",
              "    }\n",
              "    60% {\n",
              "      border-color: transparent;\n",
              "      border-right-color: var(--fill-color);\n",
              "    }\n",
              "    80% {\n",
              "      border-color: transparent;\n",
              "      border-right-color: var(--fill-color);\n",
              "      border-bottom-color: var(--fill-color);\n",
              "    }\n",
              "    90% {\n",
              "      border-color: transparent;\n",
              "      border-bottom-color: var(--fill-color);\n",
              "    }\n",
              "  }\n",
              "</style>\n",
              "\n",
              "  <script>\n",
              "    async function quickchart(key) {\n",
              "      const quickchartButtonEl =\n",
              "        document.querySelector('#' + key + ' button');\n",
              "      quickchartButtonEl.disabled = true;  // To prevent multiple clicks.\n",
              "      quickchartButtonEl.classList.add('colab-df-spinner');\n",
              "      try {\n",
              "        const charts = await google.colab.kernel.invokeFunction(\n",
              "            'suggestCharts', [key], {});\n",
              "      } catch (error) {\n",
              "        console.error('Error during call to suggestCharts:', error);\n",
              "      }\n",
              "      quickchartButtonEl.classList.remove('colab-df-spinner');\n",
              "      quickchartButtonEl.classList.add('colab-df-quickchart-complete');\n",
              "    }\n",
              "    (() => {\n",
              "      let quickchartButtonEl =\n",
              "        document.querySelector('#df-c0400def-7437-4d4d-adb1-4e6a044fd9fe button');\n",
              "      quickchartButtonEl.style.display =\n",
              "        google.colab.kernel.accessAllowed ? 'block' : 'none';\n",
              "    })();\n",
              "  </script>\n",
              "</div>\n",
              "\n",
              "    </div>\n",
              "  </div>\n"
            ],
            "application/vnd.google.colaboratory.intrinsic+json": {
              "type": "dataframe",
              "variable_name": "data",
              "summary": "{\n  \"name\": \"data\",\n  \"rows\": 100,\n  \"fields\": [\n    {\n      \"column\": \"Review\",\n      \"properties\": {\n        \"dtype\": \"category\",\n        \"num_unique_values\": 5,\n        \"samples\": [\n          \"Hated it, would never buy again.\",\n          \"Terrible, broke after one use.\",\n          \"Not bad, but could be better.\"\n        ],\n        \"semantic_type\": \"\",\n        \"description\": \"\"\n      }\n    },\n    {\n      \"column\": \"Sentiment\",\n      \"properties\": {\n        \"dtype\": \"category\",\n        \"num_unique_values\": 2,\n        \"samples\": [\n          \"Positive\",\n          \"Negative\"\n        ],\n        \"semantic_type\": \"\",\n        \"description\": \"\"\n      }\n    }\n  ]\n}"
            }
          },
          "metadata": {},
          "execution_count": 25
        }
      ]
    },
    {
      "cell_type": "code",
      "source": [
        "# Download NLTK resources\n",
        "nltk.download('punkt')\n",
        "nltk.download('stopwords')\n",
        "nltk.download('wordnet')\n"
      ],
      "metadata": {
        "colab": {
          "base_uri": "https://localhost:8080/"
        },
        "id": "c-b6juI4Kce7",
        "outputId": "447536c2-df95-4ce4-8d99-a34389cb34b1"
      },
      "execution_count": null,
      "outputs": [
        {
          "output_type": "stream",
          "name": "stderr",
          "text": [
            "[nltk_data] Downloading package punkt to /root/nltk_data...\n",
            "[nltk_data]   Package punkt is already up-to-date!\n",
            "[nltk_data] Downloading package stopwords to /root/nltk_data...\n",
            "[nltk_data]   Package stopwords is already up-to-date!\n",
            "[nltk_data] Downloading package wordnet to /root/nltk_data...\n",
            "[nltk_data]   Package wordnet is already up-to-date!\n"
          ]
        },
        {
          "output_type": "execute_result",
          "data": {
            "text/plain": [
              "True"
            ]
          },
          "metadata": {},
          "execution_count": 26
        }
      ]
    },
    {
      "cell_type": "code",
      "source": [
        "data['Review'].head()"
      ],
      "metadata": {
        "colab": {
          "base_uri": "https://localhost:8080/"
        },
        "id": "WNqQ_boKK3lb",
        "outputId": "3d839d12-4dfd-4054-eb78-5deacf2b4b50"
      },
      "execution_count": null,
      "outputs": [
        {
          "output_type": "execute_result",
          "data": {
            "text/plain": [
              "0    Love this product, it is amazing!\n",
              "1     Hated it, would never buy again.\n",
              "2        Not bad, but could be better.\n",
              "3    The best purchase I've ever made!\n",
              "4       Terrible, broke after one use.\n",
              "Name: Review, dtype: object"
            ]
          },
          "metadata": {},
          "execution_count": 27
        }
      ]
    },
    {
      "cell_type": "code",
      "source": [
        "# Initialize lemmatizer\n",
        "lemmatizer = WordNetLemmatizer()\n",
        "\n",
        "# Preprocessing function\n",
        "def preprocess_text(text):\n",
        "    # Convert to lower case\n",
        "    text = text.lower()\n",
        "    # Tokenize\n",
        "    tokens = word_tokenize(text)\n",
        "    # Remove stopwords and punctuation\n",
        "    tokens = [lemmatizer.lemmatize(word) for word in tokens if word.isalnum() and word not in stopwords.words('english')]\n",
        "    return ' '.join(tokens)\n",
        "\n",
        "# Apply the preprocessing to each review\n",
        "data['processed_reviews'] = data['Review'].apply(preprocess_text)"
      ],
      "metadata": {
        "id": "aFIO--ywKhXC"
      },
      "execution_count": null,
      "outputs": []
    },
    {
      "cell_type": "markdown",
      "source": [
        "# **Step 2: Use a Pre-trained Model from TensorFlow Hub and Fine-Tune It on Your Dataset**"
      ],
      "metadata": {
        "id": "cWnNrot4vqYX"
      }
    },
    {
      "cell_type": "markdown",
      "source": [
        "Using a pre-trained model is beneficial because it can leverage knowledge (weights) learned from a vast amount of data that typically would be computationally expensive and time-consuming to train from scratch.\n"
      ],
      "metadata": {
        "id": "pGTP1-7kvyep"
      }
    },
    {
      "cell_type": "code",
      "source": [
        "import tensorflow as tf\n",
        "import tensorflow_hub as hub\n",
        "from tensorflow.keras.models import Sequential\n",
        "from tensorflow.keras.layers import Dense, InputLayer\n"
      ],
      "metadata": {
        "id": "BeUQgRGyKpTi"
      },
      "execution_count": null,
      "outputs": []
    },
    {
      "cell_type": "code",
      "source": [
        "# Load a pre-trained text embedding model from TensorFlow Hub\n",
        "model_url = \"https://tfhub.dev/google/nnlm-en-dim50/2\"  # Example model\n",
        "hub_layer = hub.KerasLayer(model_url, input_shape=[], dtype=tf.string, trainable=True)\n"
      ],
      "metadata": {
        "id": "10--69m9LIUn"
      },
      "execution_count": null,
      "outputs": []
    },
    {
      "cell_type": "code",
      "source": [
        "# Build the model\n",
        "model = Sequential()\n",
        "model.add(InputLayer(input_shape=[], dtype=tf.string))\n",
        "model.add(hub_layer)\n",
        "model.add(Dense(16, activation='relu'))\n",
        "model.add(Dense(1, activation='sigmoid'))  # Using sigmoid for binary classification\n"
      ],
      "metadata": {
        "id": "LIR2rKVDLW74"
      },
      "execution_count": null,
      "outputs": []
    },
    {
      "cell_type": "code",
      "source": [
        "# Compile the model\n",
        "model.compile(optimizer='adam',\n",
        "              loss='binary_crossentropy',\n",
        "              metrics=['accuracy'])\n"
      ],
      "metadata": {
        "id": "kUgnSaFpLVMr"
      },
      "execution_count": null,
      "outputs": []
    },
    {
      "cell_type": "markdown",
      "source": [
        "# **Explanation of Preprocessing and Model Choice**\n",
        "\n",
        "### **Why Preprocessing Is Necessary:**\n",
        "\n",
        "**Reduce Complexity**: Simplifies the model's job by reducing the number of unique tokens it must learn about.\n",
        "\n",
        "**Improve Model Efficiency:** Processing cleaned and normalized text speeds up training and can improve the model's performance.\n",
        "\n",
        "**Benefits of Using a Pre-trained Model and Fine-Tuning:**\n",
        "\n",
        "**Save Time and Resources:** Training a model from scratch requires significant computational power and time.\n",
        "\n",
        "**Leverage Transfer Learning:** Pre-trained models on large datasets already understand a lot about language data, which can be transferred to specific tasks like sentiment analysis through fine-tuning.\n",
        "\n",
        "**Improve Performance:** Pre-trained models often perform better, especially where the available training data for a specific task is limited.\n",
        "\n",
        "Fine-tuning allows the model to adjust the weights from the general language understanding to specifics about sentiment analysis, which typically leads to improved accuracy for the specific task compared to training a model from scratch."
      ],
      "metadata": {
        "id": "KDZdCsfewCvm"
      }
    },
    {
      "cell_type": "code",
      "source": [],
      "metadata": {
        "id": "wi2-Ix69N1Em"
      },
      "execution_count": null,
      "outputs": []
    },
    {
      "cell_type": "markdown",
      "source": [
        "# **QUESTION 4:**\n",
        "\n",
        "## **Scenario and Tasks:**\n",
        "\n",
        "Develop a sentiment analysis model using a pre-trained TensorFlow Hub model and fine-tune it on a dataset of reviews.\n",
        "\n",
        "## **Steps Taken:**\n",
        "\n",
        "**Text Preprocessing:** Including lowercasing, removing stop words, and tokenization to clean and prepare text data.\n",
        "\n",
        "**Utilize a Pre-trained Model:** Leverages existing learned behaviors to reduce training time and computational cost.\n",
        "\n",
        "**Fine-Tuning:** Adjusts the pre-trained model to better fit the specific nuances of the sentiment analysis task.\n",
        "\n",
        "## **Benefits of Pre-trained Models and Fine-Tuning:**\n",
        "\n",
        "**Accelerated Development:** Skip the initial and most costly phase of model training.\n",
        "\n",
        "**Improved Performance:** Starting with a model that has already learned general features can provide a significant headstart."
      ],
      "metadata": {
        "id": "QQ2tBcHtnwmT"
      }
    },
    {
      "cell_type": "code",
      "source": [],
      "metadata": {
        "id": "D6qUHMz_olJb"
      },
      "execution_count": null,
      "outputs": []
    },
    {
      "cell_type": "markdown",
      "source": [
        "# **QUESTION 4 : ENDING**"
      ],
      "metadata": {
        "id": "AaRA40zAomXX"
      }
    },
    {
      "cell_type": "code",
      "source": [],
      "metadata": {
        "id": "RDYh3kKxos0u"
      },
      "execution_count": null,
      "outputs": []
    },
    {
      "cell_type": "markdown",
      "source": [
        "# **Question 5: Time Series Forecasting**\n",
        "\n",
        "Scenario: You are working as a data scientist at an energy company that wants to predict\n",
        "electricity demand to better manage supply. You are provided with hourly electricity demand\n",
        "data (electricity_demand.csv) from the past two years. Your task is to build a forecasting model\n",
        "to predict the demand for the next 24 hours based on historical data.\n",
        "\n",
        "# **Tasks:**\n",
        "\n",
        "Load the electricity demand data using Pandas and plot the time series of the last two weeks to visualize the demand trend.\n",
        "\n",
        "Decompose the time series into its components (trend, seasonality, and residuals).\n",
        "\n",
        "Build a forecasting model using ARIMA (Autoregressive Integrated Moving Average) or LSTM\n",
        "(Long Short-Term Memory) networks.\n",
        "\n",
        "Evaluate the model's performance using appropriate metrics like RMSE (Root Mean Square\n",
        "Error) and MAE (Mean Absolute Error).\n",
        "\n",
        "# **Explanation:**\n",
        "\n",
        "Explain the steps you took to analyse the time series data.\n",
        "\n",
        "Discuss your choice of model and the reasoning behind it.\n",
        "\n",
        "Describe how you would improve the model's accuracy with more data or di􀆯erent modelling techniques."
      ],
      "metadata": {
        "id": "UzkT22jVot3o"
      }
    },
    {
      "cell_type": "code",
      "source": [],
      "metadata": {
        "id": "YvlDEhCyovhq"
      },
      "execution_count": null,
      "outputs": []
    },
    {
      "cell_type": "markdown",
      "source": [
        "# **Step 1: Load and Visualize the Data**"
      ],
      "metadata": {
        "id": "oByx7Pa2pekz"
      }
    },
    {
      "cell_type": "markdown",
      "source": [
        "To begin, load the electricity demand data and plot the time series for the last two weeks to get an understanding of recent trends. This will help in visualizing patterns, seasonality, and potential outliers."
      ],
      "metadata": {
        "id": "vyYl4sAqxE5m"
      }
    },
    {
      "cell_type": "code",
      "source": [],
      "metadata": {
        "id": "apq1HSEKpfZX"
      },
      "execution_count": null,
      "outputs": []
    },
    {
      "cell_type": "code",
      "execution_count": null,
      "metadata": {
        "id": "gIeN5rwSpfwy"
      },
      "outputs": [],
      "source": [
        "import numpy as np\n",
        "import pandas as pd\n",
        "import matplotlib.pyplot as plt\n",
        "import seaborn as sns"
      ]
    },
    {
      "cell_type": "code",
      "source": [
        "# Load the dataset\n",
        "data = pd.read_csv('/content/ElectricityDemandData.csv')\n",
        "data.head()"
      ],
      "metadata": {
        "colab": {
          "base_uri": "https://localhost:8080/",
          "height": 206
        },
        "id": "o0SvsHlsPVBe",
        "outputId": "1108f878-02fb-4877-ebf7-7753ea6bd3ce"
      },
      "execution_count": null,
      "outputs": [
        {
          "output_type": "execute_result",
          "data": {
            "text/plain": [
              "              DateTime  Electricity Demand (MW)\n",
              "0  2022-01-01 00:00:00              1544.963051\n",
              "1  2022-01-01 01:00:00              2052.456662\n",
              "2  2022-01-01 02:00:00              1613.613525\n",
              "3  2022-01-01 03:00:00              1873.543311\n",
              "4  2022-01-01 04:00:00              2045.452811"
            ],
            "text/html": [
              "\n",
              "  <div id=\"df-7b47c681-aed5-464f-b80f-ce23a0a10568\" class=\"colab-df-container\">\n",
              "    <div>\n",
              "<style scoped>\n",
              "    .dataframe tbody tr th:only-of-type {\n",
              "        vertical-align: middle;\n",
              "    }\n",
              "\n",
              "    .dataframe tbody tr th {\n",
              "        vertical-align: top;\n",
              "    }\n",
              "\n",
              "    .dataframe thead th {\n",
              "        text-align: right;\n",
              "    }\n",
              "</style>\n",
              "<table border=\"1\" class=\"dataframe\">\n",
              "  <thead>\n",
              "    <tr style=\"text-align: right;\">\n",
              "      <th></th>\n",
              "      <th>DateTime</th>\n",
              "      <th>Electricity Demand (MW)</th>\n",
              "    </tr>\n",
              "  </thead>\n",
              "  <tbody>\n",
              "    <tr>\n",
              "      <th>0</th>\n",
              "      <td>2022-01-01 00:00:00</td>\n",
              "      <td>1544.963051</td>\n",
              "    </tr>\n",
              "    <tr>\n",
              "      <th>1</th>\n",
              "      <td>2022-01-01 01:00:00</td>\n",
              "      <td>2052.456662</td>\n",
              "    </tr>\n",
              "    <tr>\n",
              "      <th>2</th>\n",
              "      <td>2022-01-01 02:00:00</td>\n",
              "      <td>1613.613525</td>\n",
              "    </tr>\n",
              "    <tr>\n",
              "      <th>3</th>\n",
              "      <td>2022-01-01 03:00:00</td>\n",
              "      <td>1873.543311</td>\n",
              "    </tr>\n",
              "    <tr>\n",
              "      <th>4</th>\n",
              "      <td>2022-01-01 04:00:00</td>\n",
              "      <td>2045.452811</td>\n",
              "    </tr>\n",
              "  </tbody>\n",
              "</table>\n",
              "</div>\n",
              "    <div class=\"colab-df-buttons\">\n",
              "\n",
              "  <div class=\"colab-df-container\">\n",
              "    <button class=\"colab-df-convert\" onclick=\"convertToInteractive('df-7b47c681-aed5-464f-b80f-ce23a0a10568')\"\n",
              "            title=\"Convert this dataframe to an interactive table.\"\n",
              "            style=\"display:none;\">\n",
              "\n",
              "  <svg xmlns=\"http://www.w3.org/2000/svg\" height=\"24px\" viewBox=\"0 -960 960 960\">\n",
              "    <path d=\"M120-120v-720h720v720H120Zm60-500h600v-160H180v160Zm220 220h160v-160H400v160Zm0 220h160v-160H400v160ZM180-400h160v-160H180v160Zm440 0h160v-160H620v160ZM180-180h160v-160H180v160Zm440 0h160v-160H620v160Z\"/>\n",
              "  </svg>\n",
              "    </button>\n",
              "\n",
              "  <style>\n",
              "    .colab-df-container {\n",
              "      display:flex;\n",
              "      gap: 12px;\n",
              "    }\n",
              "\n",
              "    .colab-df-convert {\n",
              "      background-color: #E8F0FE;\n",
              "      border: none;\n",
              "      border-radius: 50%;\n",
              "      cursor: pointer;\n",
              "      display: none;\n",
              "      fill: #1967D2;\n",
              "      height: 32px;\n",
              "      padding: 0 0 0 0;\n",
              "      width: 32px;\n",
              "    }\n",
              "\n",
              "    .colab-df-convert:hover {\n",
              "      background-color: #E2EBFA;\n",
              "      box-shadow: 0px 1px 2px rgba(60, 64, 67, 0.3), 0px 1px 3px 1px rgba(60, 64, 67, 0.15);\n",
              "      fill: #174EA6;\n",
              "    }\n",
              "\n",
              "    .colab-df-buttons div {\n",
              "      margin-bottom: 4px;\n",
              "    }\n",
              "\n",
              "    [theme=dark] .colab-df-convert {\n",
              "      background-color: #3B4455;\n",
              "      fill: #D2E3FC;\n",
              "    }\n",
              "\n",
              "    [theme=dark] .colab-df-convert:hover {\n",
              "      background-color: #434B5C;\n",
              "      box-shadow: 0px 1px 3px 1px rgba(0, 0, 0, 0.15);\n",
              "      filter: drop-shadow(0px 1px 2px rgba(0, 0, 0, 0.3));\n",
              "      fill: #FFFFFF;\n",
              "    }\n",
              "  </style>\n",
              "\n",
              "    <script>\n",
              "      const buttonEl =\n",
              "        document.querySelector('#df-7b47c681-aed5-464f-b80f-ce23a0a10568 button.colab-df-convert');\n",
              "      buttonEl.style.display =\n",
              "        google.colab.kernel.accessAllowed ? 'block' : 'none';\n",
              "\n",
              "      async function convertToInteractive(key) {\n",
              "        const element = document.querySelector('#df-7b47c681-aed5-464f-b80f-ce23a0a10568');\n",
              "        const dataTable =\n",
              "          await google.colab.kernel.invokeFunction('convertToInteractive',\n",
              "                                                    [key], {});\n",
              "        if (!dataTable) return;\n",
              "\n",
              "        const docLinkHtml = 'Like what you see? Visit the ' +\n",
              "          '<a target=\"_blank\" href=https://colab.research.google.com/notebooks/data_table.ipynb>data table notebook</a>'\n",
              "          + ' to learn more about interactive tables.';\n",
              "        element.innerHTML = '';\n",
              "        dataTable['output_type'] = 'display_data';\n",
              "        await google.colab.output.renderOutput(dataTable, element);\n",
              "        const docLink = document.createElement('div');\n",
              "        docLink.innerHTML = docLinkHtml;\n",
              "        element.appendChild(docLink);\n",
              "      }\n",
              "    </script>\n",
              "  </div>\n",
              "\n",
              "\n",
              "<div id=\"df-5d22684b-0ad0-4375-b7f7-6c3db412e23f\">\n",
              "  <button class=\"colab-df-quickchart\" onclick=\"quickchart('df-5d22684b-0ad0-4375-b7f7-6c3db412e23f')\"\n",
              "            title=\"Suggest charts\"\n",
              "            style=\"display:none;\">\n",
              "\n",
              "<svg xmlns=\"http://www.w3.org/2000/svg\" height=\"24px\"viewBox=\"0 0 24 24\"\n",
              "     width=\"24px\">\n",
              "    <g>\n",
              "        <path d=\"M19 3H5c-1.1 0-2 .9-2 2v14c0 1.1.9 2 2 2h14c1.1 0 2-.9 2-2V5c0-1.1-.9-2-2-2zM9 17H7v-7h2v7zm4 0h-2V7h2v10zm4 0h-2v-4h2v4z\"/>\n",
              "    </g>\n",
              "</svg>\n",
              "  </button>\n",
              "\n",
              "<style>\n",
              "  .colab-df-quickchart {\n",
              "      --bg-color: #E8F0FE;\n",
              "      --fill-color: #1967D2;\n",
              "      --hover-bg-color: #E2EBFA;\n",
              "      --hover-fill-color: #174EA6;\n",
              "      --disabled-fill-color: #AAA;\n",
              "      --disabled-bg-color: #DDD;\n",
              "  }\n",
              "\n",
              "  [theme=dark] .colab-df-quickchart {\n",
              "      --bg-color: #3B4455;\n",
              "      --fill-color: #D2E3FC;\n",
              "      --hover-bg-color: #434B5C;\n",
              "      --hover-fill-color: #FFFFFF;\n",
              "      --disabled-bg-color: #3B4455;\n",
              "      --disabled-fill-color: #666;\n",
              "  }\n",
              "\n",
              "  .colab-df-quickchart {\n",
              "    background-color: var(--bg-color);\n",
              "    border: none;\n",
              "    border-radius: 50%;\n",
              "    cursor: pointer;\n",
              "    display: none;\n",
              "    fill: var(--fill-color);\n",
              "    height: 32px;\n",
              "    padding: 0;\n",
              "    width: 32px;\n",
              "  }\n",
              "\n",
              "  .colab-df-quickchart:hover {\n",
              "    background-color: var(--hover-bg-color);\n",
              "    box-shadow: 0 1px 2px rgba(60, 64, 67, 0.3), 0 1px 3px 1px rgba(60, 64, 67, 0.15);\n",
              "    fill: var(--button-hover-fill-color);\n",
              "  }\n",
              "\n",
              "  .colab-df-quickchart-complete:disabled,\n",
              "  .colab-df-quickchart-complete:disabled:hover {\n",
              "    background-color: var(--disabled-bg-color);\n",
              "    fill: var(--disabled-fill-color);\n",
              "    box-shadow: none;\n",
              "  }\n",
              "\n",
              "  .colab-df-spinner {\n",
              "    border: 2px solid var(--fill-color);\n",
              "    border-color: transparent;\n",
              "    border-bottom-color: var(--fill-color);\n",
              "    animation:\n",
              "      spin 1s steps(1) infinite;\n",
              "  }\n",
              "\n",
              "  @keyframes spin {\n",
              "    0% {\n",
              "      border-color: transparent;\n",
              "      border-bottom-color: var(--fill-color);\n",
              "      border-left-color: var(--fill-color);\n",
              "    }\n",
              "    20% {\n",
              "      border-color: transparent;\n",
              "      border-left-color: var(--fill-color);\n",
              "      border-top-color: var(--fill-color);\n",
              "    }\n",
              "    30% {\n",
              "      border-color: transparent;\n",
              "      border-left-color: var(--fill-color);\n",
              "      border-top-color: var(--fill-color);\n",
              "      border-right-color: var(--fill-color);\n",
              "    }\n",
              "    40% {\n",
              "      border-color: transparent;\n",
              "      border-right-color: var(--fill-color);\n",
              "      border-top-color: var(--fill-color);\n",
              "    }\n",
              "    60% {\n",
              "      border-color: transparent;\n",
              "      border-right-color: var(--fill-color);\n",
              "    }\n",
              "    80% {\n",
              "      border-color: transparent;\n",
              "      border-right-color: var(--fill-color);\n",
              "      border-bottom-color: var(--fill-color);\n",
              "    }\n",
              "    90% {\n",
              "      border-color: transparent;\n",
              "      border-bottom-color: var(--fill-color);\n",
              "    }\n",
              "  }\n",
              "</style>\n",
              "\n",
              "  <script>\n",
              "    async function quickchart(key) {\n",
              "      const quickchartButtonEl =\n",
              "        document.querySelector('#' + key + ' button');\n",
              "      quickchartButtonEl.disabled = true;  // To prevent multiple clicks.\n",
              "      quickchartButtonEl.classList.add('colab-df-spinner');\n",
              "      try {\n",
              "        const charts = await google.colab.kernel.invokeFunction(\n",
              "            'suggestCharts', [key], {});\n",
              "      } catch (error) {\n",
              "        console.error('Error during call to suggestCharts:', error);\n",
              "      }\n",
              "      quickchartButtonEl.classList.remove('colab-df-spinner');\n",
              "      quickchartButtonEl.classList.add('colab-df-quickchart-complete');\n",
              "    }\n",
              "    (() => {\n",
              "      let quickchartButtonEl =\n",
              "        document.querySelector('#df-5d22684b-0ad0-4375-b7f7-6c3db412e23f button');\n",
              "      quickchartButtonEl.style.display =\n",
              "        google.colab.kernel.accessAllowed ? 'block' : 'none';\n",
              "    })();\n",
              "  </script>\n",
              "</div>\n",
              "\n",
              "    </div>\n",
              "  </div>\n"
            ],
            "application/vnd.google.colaboratory.intrinsic+json": {
              "type": "dataframe",
              "variable_name": "data",
              "summary": "{\n  \"name\": \"data\",\n  \"rows\": 17520,\n  \"fields\": [\n    {\n      \"column\": \"DateTime\",\n      \"properties\": {\n        \"dtype\": \"object\",\n        \"num_unique_values\": 17520,\n        \"samples\": [\n          \"2022-10-03 21:00:00\",\n          \"2022-05-22 10:00:00\",\n          \"2022-01-06 03:00:00\"\n        ],\n        \"semantic_type\": \"\",\n        \"description\": \"\"\n      }\n    },\n    {\n      \"column\": \"Electricity Demand (MW)\",\n      \"properties\": {\n        \"dtype\": \"number\",\n        \"std\": 337.3559514348511,\n        \"min\": 231.73695016865625,\n        \"max\": 2796.215603900473,\n        \"num_unique_values\": 17520,\n        \"samples\": [\n          1479.1431036480153,\n          2092.811149350739,\n          1366.111894424207\n        ],\n        \"semantic_type\": \"\",\n        \"description\": \"\"\n      }\n    }\n  ]\n}"
            }
          },
          "metadata": {},
          "execution_count": 34
        }
      ]
    },
    {
      "cell_type": "code",
      "source": [
        "datetime = pd.to_datetime(data['DateTime'])"
      ],
      "metadata": {
        "id": "uFiOCGxASYdD"
      },
      "execution_count": null,
      "outputs": []
    },
    {
      "cell_type": "code",
      "source": [
        "# dates = pd.date_range(start='2022-01-01',freq='MS',periods=len(df))\n",
        "data['DateTime'] = datetime\n",
        "data=data.set_index('DateTime')\n",
        "data.head()"
      ],
      "metadata": {
        "colab": {
          "base_uri": "https://localhost:8080/",
          "height": 238
        },
        "id": "ae8n8YS8P2Y6",
        "outputId": "b405e8ae-429a-44fa-ba82-507780e703ca"
      },
      "execution_count": null,
      "outputs": [
        {
          "output_type": "execute_result",
          "data": {
            "text/plain": [
              "                     Electricity Demand (MW)\n",
              "DateTime                                    \n",
              "2022-01-01 00:00:00              1544.963051\n",
              "2022-01-01 01:00:00              2052.456662\n",
              "2022-01-01 02:00:00              1613.613525\n",
              "2022-01-01 03:00:00              1873.543311\n",
              "2022-01-01 04:00:00              2045.452811"
            ],
            "text/html": [
              "\n",
              "  <div id=\"df-917bc419-99a5-4342-8b2b-525e0619eb4f\" class=\"colab-df-container\">\n",
              "    <div>\n",
              "<style scoped>\n",
              "    .dataframe tbody tr th:only-of-type {\n",
              "        vertical-align: middle;\n",
              "    }\n",
              "\n",
              "    .dataframe tbody tr th {\n",
              "        vertical-align: top;\n",
              "    }\n",
              "\n",
              "    .dataframe thead th {\n",
              "        text-align: right;\n",
              "    }\n",
              "</style>\n",
              "<table border=\"1\" class=\"dataframe\">\n",
              "  <thead>\n",
              "    <tr style=\"text-align: right;\">\n",
              "      <th></th>\n",
              "      <th>Electricity Demand (MW)</th>\n",
              "    </tr>\n",
              "    <tr>\n",
              "      <th>DateTime</th>\n",
              "      <th></th>\n",
              "    </tr>\n",
              "  </thead>\n",
              "  <tbody>\n",
              "    <tr>\n",
              "      <th>2022-01-01 00:00:00</th>\n",
              "      <td>1544.963051</td>\n",
              "    </tr>\n",
              "    <tr>\n",
              "      <th>2022-01-01 01:00:00</th>\n",
              "      <td>2052.456662</td>\n",
              "    </tr>\n",
              "    <tr>\n",
              "      <th>2022-01-01 02:00:00</th>\n",
              "      <td>1613.613525</td>\n",
              "    </tr>\n",
              "    <tr>\n",
              "      <th>2022-01-01 03:00:00</th>\n",
              "      <td>1873.543311</td>\n",
              "    </tr>\n",
              "    <tr>\n",
              "      <th>2022-01-01 04:00:00</th>\n",
              "      <td>2045.452811</td>\n",
              "    </tr>\n",
              "  </tbody>\n",
              "</table>\n",
              "</div>\n",
              "    <div class=\"colab-df-buttons\">\n",
              "\n",
              "  <div class=\"colab-df-container\">\n",
              "    <button class=\"colab-df-convert\" onclick=\"convertToInteractive('df-917bc419-99a5-4342-8b2b-525e0619eb4f')\"\n",
              "            title=\"Convert this dataframe to an interactive table.\"\n",
              "            style=\"display:none;\">\n",
              "\n",
              "  <svg xmlns=\"http://www.w3.org/2000/svg\" height=\"24px\" viewBox=\"0 -960 960 960\">\n",
              "    <path d=\"M120-120v-720h720v720H120Zm60-500h600v-160H180v160Zm220 220h160v-160H400v160Zm0 220h160v-160H400v160ZM180-400h160v-160H180v160Zm440 0h160v-160H620v160ZM180-180h160v-160H180v160Zm440 0h160v-160H620v160Z\"/>\n",
              "  </svg>\n",
              "    </button>\n",
              "\n",
              "  <style>\n",
              "    .colab-df-container {\n",
              "      display:flex;\n",
              "      gap: 12px;\n",
              "    }\n",
              "\n",
              "    .colab-df-convert {\n",
              "      background-color: #E8F0FE;\n",
              "      border: none;\n",
              "      border-radius: 50%;\n",
              "      cursor: pointer;\n",
              "      display: none;\n",
              "      fill: #1967D2;\n",
              "      height: 32px;\n",
              "      padding: 0 0 0 0;\n",
              "      width: 32px;\n",
              "    }\n",
              "\n",
              "    .colab-df-convert:hover {\n",
              "      background-color: #E2EBFA;\n",
              "      box-shadow: 0px 1px 2px rgba(60, 64, 67, 0.3), 0px 1px 3px 1px rgba(60, 64, 67, 0.15);\n",
              "      fill: #174EA6;\n",
              "    }\n",
              "\n",
              "    .colab-df-buttons div {\n",
              "      margin-bottom: 4px;\n",
              "    }\n",
              "\n",
              "    [theme=dark] .colab-df-convert {\n",
              "      background-color: #3B4455;\n",
              "      fill: #D2E3FC;\n",
              "    }\n",
              "\n",
              "    [theme=dark] .colab-df-convert:hover {\n",
              "      background-color: #434B5C;\n",
              "      box-shadow: 0px 1px 3px 1px rgba(0, 0, 0, 0.15);\n",
              "      filter: drop-shadow(0px 1px 2px rgba(0, 0, 0, 0.3));\n",
              "      fill: #FFFFFF;\n",
              "    }\n",
              "  </style>\n",
              "\n",
              "    <script>\n",
              "      const buttonEl =\n",
              "        document.querySelector('#df-917bc419-99a5-4342-8b2b-525e0619eb4f button.colab-df-convert');\n",
              "      buttonEl.style.display =\n",
              "        google.colab.kernel.accessAllowed ? 'block' : 'none';\n",
              "\n",
              "      async function convertToInteractive(key) {\n",
              "        const element = document.querySelector('#df-917bc419-99a5-4342-8b2b-525e0619eb4f');\n",
              "        const dataTable =\n",
              "          await google.colab.kernel.invokeFunction('convertToInteractive',\n",
              "                                                    [key], {});\n",
              "        if (!dataTable) return;\n",
              "\n",
              "        const docLinkHtml = 'Like what you see? Visit the ' +\n",
              "          '<a target=\"_blank\" href=https://colab.research.google.com/notebooks/data_table.ipynb>data table notebook</a>'\n",
              "          + ' to learn more about interactive tables.';\n",
              "        element.innerHTML = '';\n",
              "        dataTable['output_type'] = 'display_data';\n",
              "        await google.colab.output.renderOutput(dataTable, element);\n",
              "        const docLink = document.createElement('div');\n",
              "        docLink.innerHTML = docLinkHtml;\n",
              "        element.appendChild(docLink);\n",
              "      }\n",
              "    </script>\n",
              "  </div>\n",
              "\n",
              "\n",
              "<div id=\"df-5eaa10bc-3237-41a8-990e-edc54569092d\">\n",
              "  <button class=\"colab-df-quickchart\" onclick=\"quickchart('df-5eaa10bc-3237-41a8-990e-edc54569092d')\"\n",
              "            title=\"Suggest charts\"\n",
              "            style=\"display:none;\">\n",
              "\n",
              "<svg xmlns=\"http://www.w3.org/2000/svg\" height=\"24px\"viewBox=\"0 0 24 24\"\n",
              "     width=\"24px\">\n",
              "    <g>\n",
              "        <path d=\"M19 3H5c-1.1 0-2 .9-2 2v14c0 1.1.9 2 2 2h14c1.1 0 2-.9 2-2V5c0-1.1-.9-2-2-2zM9 17H7v-7h2v7zm4 0h-2V7h2v10zm4 0h-2v-4h2v4z\"/>\n",
              "    </g>\n",
              "</svg>\n",
              "  </button>\n",
              "\n",
              "<style>\n",
              "  .colab-df-quickchart {\n",
              "      --bg-color: #E8F0FE;\n",
              "      --fill-color: #1967D2;\n",
              "      --hover-bg-color: #E2EBFA;\n",
              "      --hover-fill-color: #174EA6;\n",
              "      --disabled-fill-color: #AAA;\n",
              "      --disabled-bg-color: #DDD;\n",
              "  }\n",
              "\n",
              "  [theme=dark] .colab-df-quickchart {\n",
              "      --bg-color: #3B4455;\n",
              "      --fill-color: #D2E3FC;\n",
              "      --hover-bg-color: #434B5C;\n",
              "      --hover-fill-color: #FFFFFF;\n",
              "      --disabled-bg-color: #3B4455;\n",
              "      --disabled-fill-color: #666;\n",
              "  }\n",
              "\n",
              "  .colab-df-quickchart {\n",
              "    background-color: var(--bg-color);\n",
              "    border: none;\n",
              "    border-radius: 50%;\n",
              "    cursor: pointer;\n",
              "    display: none;\n",
              "    fill: var(--fill-color);\n",
              "    height: 32px;\n",
              "    padding: 0;\n",
              "    width: 32px;\n",
              "  }\n",
              "\n",
              "  .colab-df-quickchart:hover {\n",
              "    background-color: var(--hover-bg-color);\n",
              "    box-shadow: 0 1px 2px rgba(60, 64, 67, 0.3), 0 1px 3px 1px rgba(60, 64, 67, 0.15);\n",
              "    fill: var(--button-hover-fill-color);\n",
              "  }\n",
              "\n",
              "  .colab-df-quickchart-complete:disabled,\n",
              "  .colab-df-quickchart-complete:disabled:hover {\n",
              "    background-color: var(--disabled-bg-color);\n",
              "    fill: var(--disabled-fill-color);\n",
              "    box-shadow: none;\n",
              "  }\n",
              "\n",
              "  .colab-df-spinner {\n",
              "    border: 2px solid var(--fill-color);\n",
              "    border-color: transparent;\n",
              "    border-bottom-color: var(--fill-color);\n",
              "    animation:\n",
              "      spin 1s steps(1) infinite;\n",
              "  }\n",
              "\n",
              "  @keyframes spin {\n",
              "    0% {\n",
              "      border-color: transparent;\n",
              "      border-bottom-color: var(--fill-color);\n",
              "      border-left-color: var(--fill-color);\n",
              "    }\n",
              "    20% {\n",
              "      border-color: transparent;\n",
              "      border-left-color: var(--fill-color);\n",
              "      border-top-color: var(--fill-color);\n",
              "    }\n",
              "    30% {\n",
              "      border-color: transparent;\n",
              "      border-left-color: var(--fill-color);\n",
              "      border-top-color: var(--fill-color);\n",
              "      border-right-color: var(--fill-color);\n",
              "    }\n",
              "    40% {\n",
              "      border-color: transparent;\n",
              "      border-right-color: var(--fill-color);\n",
              "      border-top-color: var(--fill-color);\n",
              "    }\n",
              "    60% {\n",
              "      border-color: transparent;\n",
              "      border-right-color: var(--fill-color);\n",
              "    }\n",
              "    80% {\n",
              "      border-color: transparent;\n",
              "      border-right-color: var(--fill-color);\n",
              "      border-bottom-color: var(--fill-color);\n",
              "    }\n",
              "    90% {\n",
              "      border-color: transparent;\n",
              "      border-bottom-color: var(--fill-color);\n",
              "    }\n",
              "  }\n",
              "</style>\n",
              "\n",
              "  <script>\n",
              "    async function quickchart(key) {\n",
              "      const quickchartButtonEl =\n",
              "        document.querySelector('#' + key + ' button');\n",
              "      quickchartButtonEl.disabled = true;  // To prevent multiple clicks.\n",
              "      quickchartButtonEl.classList.add('colab-df-spinner');\n",
              "      try {\n",
              "        const charts = await google.colab.kernel.invokeFunction(\n",
              "            'suggestCharts', [key], {});\n",
              "      } catch (error) {\n",
              "        console.error('Error during call to suggestCharts:', error);\n",
              "      }\n",
              "      quickchartButtonEl.classList.remove('colab-df-spinner');\n",
              "      quickchartButtonEl.classList.add('colab-df-quickchart-complete');\n",
              "    }\n",
              "    (() => {\n",
              "      let quickchartButtonEl =\n",
              "        document.querySelector('#df-5eaa10bc-3237-41a8-990e-edc54569092d button');\n",
              "      quickchartButtonEl.style.display =\n",
              "        google.colab.kernel.accessAllowed ? 'block' : 'none';\n",
              "    })();\n",
              "  </script>\n",
              "</div>\n",
              "\n",
              "    </div>\n",
              "  </div>\n"
            ],
            "application/vnd.google.colaboratory.intrinsic+json": {
              "type": "dataframe",
              "variable_name": "data",
              "summary": "{\n  \"name\": \"data\",\n  \"rows\": 17520,\n  \"fields\": [\n    {\n      \"column\": \"DateTime\",\n      \"properties\": {\n        \"dtype\": \"date\",\n        \"min\": \"2022-01-01 00:00:00\",\n        \"max\": \"2023-12-31 23:00:00\",\n        \"num_unique_values\": 17520,\n        \"samples\": [\n          \"2022-10-03 21:00:00\",\n          \"2022-05-22 10:00:00\",\n          \"2022-01-06 03:00:00\"\n        ],\n        \"semantic_type\": \"\",\n        \"description\": \"\"\n      }\n    },\n    {\n      \"column\": \"Electricity Demand (MW)\",\n      \"properties\": {\n        \"dtype\": \"number\",\n        \"std\": 337.3559514348511,\n        \"min\": 231.73695016865625,\n        \"max\": 2796.215603900473,\n        \"num_unique_values\": 17520,\n        \"samples\": [\n          1479.1431036480153,\n          2092.811149350739,\n          1366.111894424207\n        ],\n        \"semantic_type\": \"\",\n        \"description\": \"\"\n      }\n    }\n  ]\n}"
            }
          },
          "metadata": {},
          "execution_count": 36
        }
      ]
    },
    {
      "cell_type": "code",
      "source": [
        "last_two_weeks = data.last('14D')\n",
        "\n",
        "plt.figure(figsize=(10, 5))\n",
        "plt.plot(last_two_weeks.index, last_two_weeks['Electricity Demand (MW)'], label='Electricity Demand (MW)')\n",
        "plt.title('Electricity Demand Over the Last Two Weeks')\n",
        "plt.xlabel('Date')\n",
        "plt.ylabel('Demand')\n",
        "plt.legend()\n",
        "plt.show()"
      ],
      "metadata": {
        "colab": {
          "base_uri": "https://localhost:8080/",
          "height": 487
        },
        "id": "CcbnFXV8QWYI",
        "outputId": "ea3ff55a-e790-414b-cb26-34907a03e6b5"
      },
      "execution_count": null,
      "outputs": [
        {
          "output_type": "display_data",
          "data": {
            "text/plain": [
              "<Figure size 1000x500 with 1 Axes>"
            ],
            "image/png": "[encoded data removed]"
          },
          "metadata": {}
        }
      ]
    },
    {
      "cell_type": "markdown",
      "source": [
        "# **Step 2: Decompose the Time Series**"
      ],
      "metadata": {
        "id": "89lEmtJ3xIl-"
      }
    },
    {
      "cell_type": "markdown",
      "source": [
        "Decomposing the time series into trend, seasonality, and residuals will help in understanding underlying patterns and will guide the choice of forecasting model."
      ],
      "metadata": {
        "id": "LdgDzL8txVpz"
      }
    },
    {
      "cell_type": "code",
      "source": [
        "from statsmodels.tsa.seasonal import seasonal_decompose\n",
        "\n",
        "# Decompose the time series\n",
        "decomposition = seasonal_decompose(data['Electricity Demand (MW)'], model='additive', period=24)  # assuming hourly data\n",
        "\n",
        "# Plot the decomposed components\n",
        "decomposition.plot()\n",
        "plt.show()\n"
      ],
      "metadata": {
        "colab": {
          "base_uri": "https://localhost:8080/",
          "height": 487
        },
        "id": "YZukOaPpTW1n",
        "outputId": "1c52df87-e49d-44b9-a5a1-b8d9326dd692"
      },
      "execution_count": null,
      "outputs": [
        {
          "output_type": "display_data",
          "data": {
            "text/plain": [
              "<Figure size 640x480 with 4 Axes>"
            ],
            "image/png": "[encoded data removed]"
          },
          "metadata": {}
        }
      ]
    },
    {
      "cell_type": "markdown",
      "source": [
        "# **Step 3: Build a Forecasting Model**"
      ],
      "metadata": {
        "id": "mIJ07J2LxcRc"
      }
    },
    {
      "cell_type": "markdown",
      "source": [
        "### **Option 1: ARIMA Model**\n",
        "\n",
        "ARIMA models are commonly used in time series forecasting, especially when the data shows evidence of non-stationarities such as trends and seasonal effects.\n"
      ],
      "metadata": {
        "id": "L0ZliQ1hxfw7"
      }
    },
    {
      "cell_type": "code",
      "source": [
        "from statsmodels.tsa.arima.model import ARIMA\n",
        "\n",
        "# Fit an ARIMA model\n",
        "# Example: ARIMA(2, 1, 2) - These parameters should ideally be optimized\n",
        "model = ARIMA(data['Electricity Demand (MW)'], order=(2, 1, 2))\n",
        "model_fit = model.fit()\n",
        "\n",
        "# Forecast the next 24 hours\n",
        "forecast = model_fit.forecast(steps=24)\n",
        "print(forecast)\n"
      ],
      "metadata": {
        "colab": {
          "base_uri": "https://localhost:8080/"
        },
        "id": "ngiX8UxPTkJq",
        "outputId": "498d5ca2-3575-415c-a919-9477e2ea585f"
      },
      "execution_count": null,
      "outputs": [
        {
          "output_type": "stream",
          "name": "stderr",
          "text": [
            "/usr/local/lib/python3.10/dist-packages/statsmodels/tsa/base/tsa_model.py:473: ValueWarning: No frequency information was provided, so inferred frequency H will be used.\n",
            "  self._init_dates(dates, freq)\n",
            "/usr/local/lib/python3.10/dist-packages/statsmodels/tsa/base/tsa_model.py:473: ValueWarning: No frequency information was provided, so inferred frequency H will be used.\n",
            "  self._init_dates(dates, freq)\n",
            "/usr/local/lib/python3.10/dist-packages/statsmodels/tsa/base/tsa_model.py:473: ValueWarning: No frequency information was provided, so inferred frequency H will be used.\n",
            "  self._init_dates(dates, freq)\n",
            "/usr/local/lib/python3.10/dist-packages/statsmodels/base/model.py:607: ConvergenceWarning: Maximum Likelihood optimization failed to converge. Check mle_retvals\n",
            "  warnings.warn(\"Maximum Likelihood optimization failed to \"\n"
          ]
        },
        {
          "output_type": "stream",
          "name": "stdout",
          "text": [
            "2024-01-01 00:00:00    1578.283056\n",
            "2024-01-01 01:00:00    1559.371606\n",
            "2024-01-01 02:00:00    1542.608984\n",
            "2024-01-01 03:00:00    1531.116205\n",
            "2024-01-01 04:00:00    1523.027717\n",
            "2024-01-01 05:00:00    1517.351882\n",
            "2024-01-01 06:00:00    1513.367738\n",
            "2024-01-01 07:00:00    1510.571178\n",
            "2024-01-01 08:00:00    1508.608201\n",
            "2024-01-01 09:00:00    1507.230339\n",
            "2024-01-01 10:00:00    1506.263182\n",
            "2024-01-01 11:00:00    1505.584310\n",
            "2024-01-01 12:00:00    1505.107793\n",
            "2024-01-01 13:00:00    1504.773314\n",
            "2024-01-01 14:00:00    1504.538535\n",
            "2024-01-01 15:00:00    1504.373737\n",
            "2024-01-01 16:00:00    1504.258061\n",
            "2024-01-01 17:00:00    1504.176866\n",
            "2024-01-01 18:00:00    1504.119873\n",
            "2024-01-01 19:00:00    1504.079868\n",
            "2024-01-01 20:00:00    1504.051787\n",
            "2024-01-01 21:00:00    1504.032077\n",
            "2024-01-01 22:00:00    1504.018241\n",
            "2024-01-01 23:00:00    1504.008530\n",
            "Freq: H, Name: predicted_mean, dtype: float64\n"
          ]
        }
      ]
    },
    {
      "cell_type": "markdown",
      "source": [
        "# **Option 2: LSTM Network**"
      ],
      "metadata": {
        "id": "ioqUTyIcx_97"
      }
    },
    {
      "cell_type": "markdown",
      "source": [
        "LSTMs are a type of recurrent neural network suitable for sequence prediction problems and can capture long-term dependencies in time series data.\n"
      ],
      "metadata": {
        "id": "-lLXGC6IyE7g"
      }
    },
    {
      "cell_type": "code",
      "source": [
        "import numpy as np\n",
        "from tensorflow.keras.models import Sequential\n",
        "from tensorflow.keras.layers import LSTM, Dense\n",
        "\n",
        "# Preprocess data for LSTM\n",
        "# Assuming 'data' is loaded and indexed by datetime\n",
        "# Note: This requires creating sequences of 24 hours data points for training\n",
        "\n",
        "# Normalize data\n",
        "data_scaled = (data - data.min()) / (data.max() - data.min())\n",
        "\n",
        "# Create sequences\n",
        "def create_sequences(data, seq_length):\n",
        "    xs = []\n",
        "    ys = []\n",
        "    for i in range(len(data)-seq_length-1):\n",
        "        x = data.iloc[i:(i+seq_length)]\n",
        "        y = data.iloc[i+seq_length]\n",
        "        xs.append(x)\n",
        "        ys.append(y)\n",
        "    return np.array(xs), np.array(ys)\n",
        "\n",
        "seq_length = 24\n",
        "X, y = create_sequences(data_scaled, seq_length)\n",
        "\n",
        "# Split into training and test data\n",
        "train_size = int(len(X) * 0.8)\n",
        "X_train, X_test = X[:train_size], X[train_size:]\n",
        "y_train, y_test = y[:train_size], y[train_size:]\n",
        "\n",
        "# Build LSTM model\n",
        "model = Sequential()\n",
        "model.add(LSTM(50, activation='relu', input_shape=(seq_length, 1)))\n",
        "model.add(Dense(1))\n",
        "model.compile(optimizer='adam', loss='mse')\n",
        "\n",
        "# Train the model\n",
        "model.fit(X_train, y_train, epochs=10, validation_data=(X_test, y_test))\n"
      ],
      "metadata": {
        "colab": {
          "base_uri": "https://localhost:8080/"
        },
        "outputId": "d12f44dd-4cce-4080-b772-33b27f18f6cc",
        "id": "6X4ocF5Z2dLx"
      },
      "execution_count": null,
      "outputs": [
        {
          "output_type": "stream",
          "name": "stdout",
          "text": [
            "Epoch 1/10\n",
            "438/438 [==============================] - 6s 10ms/step - loss: 0.0239 - val_loss: 0.0170\n",
            "Epoch 2/10\n",
            "438/438 [==============================] - 5s 12ms/step - loss: 0.0166 - val_loss: 0.0164\n",
            "Epoch 3/10\n",
            "438/438 [==============================] - 4s 9ms/step - loss: 0.0158 - val_loss: 0.0155\n",
            "Epoch 4/10\n",
            "438/438 [==============================] - 4s 10ms/step - loss: 0.0155 - val_loss: 0.0156\n",
            "Epoch 5/10\n",
            "438/438 [==============================] - 8s 19ms/step - loss: 0.0155 - val_loss: 0.0155\n",
            "Epoch 6/10\n",
            "438/438 [==============================] - 4s 10ms/step - loss: 0.0154 - val_loss: 0.0166\n",
            "Epoch 7/10\n",
            "438/438 [==============================] - 5s 12ms/step - loss: 0.0154 - val_loss: 0.0154\n",
            "Epoch 8/10\n",
            "438/438 [==============================] - 4s 9ms/step - loss: 0.0153 - val_loss: 0.0152\n",
            "Epoch 9/10\n",
            "438/438 [==============================] - 4s 9ms/step - loss: 0.0153 - val_loss: 0.0159\n",
            "Epoch 10/10\n",
            "438/438 [==============================] - 5s 12ms/step - loss: 0.0152 - val_loss: 0.0152\n"
          ]
        },
        {
          "output_type": "execute_result",
          "data": {
            "text/plain": [
              "<keras.src.callbacks.History at 0x7c931c987070>"
            ]
          },
          "metadata": {},
          "execution_count": 8
        }
      ]
    },
    {
      "cell_type": "markdown",
      "source": [
        "# **Step 4: Evaluate the Model's Performance**"
      ],
      "metadata": {
        "id": "6pHEaAT52e31"
      }
    },
    {
      "cell_type": "code",
      "source": [
        "from sklearn.metrics import mean_squared_error, mean_absolute_error\n",
        "\n",
        "# Assume predictions and actual values are stored in `predictions` and `actuals`\n",
        "rmse = mean_squared_error(actuals, predictions, squared=False)\n",
        "mae = mean_absolute_error(actuals, predictions)\n",
        "\n",
        "print(f\"RMSE: {rmse}\")\n",
        "print(f\"MAE: {mae}\")\n"
      ],
      "metadata": {
        "id": "lZAbWbcE2t8_"
      },
      "execution_count": null,
      "outputs": []
    },
    {
      "cell_type": "markdown",
      "source": [
        "# **Explanation and Discussion**\n",
        "\n",
        "**Analysis of Time Series Data:**\n",
        "\n",
        "**Visualization** helps identify patterns, outliers, and structural breaks.\n",
        "\n",
        "**Decomposition** helps in understanding the components of the time series, guiding the modeling process.\n",
        "\n",
        "**Choice of Model:**\n",
        "\n",
        "**ARIMA:** Chosen for its effectiveness in capturing trends and seasonality in time series data. Ideal when data exhibits clear patterns and linearity.\n",
        "\n",
        "**LSTM:** Selected for its ability to learn long-term dependencies and non-linear relationships, suitable for more complex or larger datasets.\n",
        "\n",
        "### **Improving Model Accuracy:**\n",
        "\n",
        "**More data:** Collecting more historical data can improve the model's training, especially for capturing seasonality and trends.\n",
        "\n",
        "**Feature engineering:** Including lag variables, rolling window statistics, or external variables like weather or economic indicators can provide additional predictive power.\n",
        "\n",
        "**Hyperparameter tuning:** Optimizing parameters for ARIMA (p, d, q) or the architecture of the LSTM (number of layers, units per layer, etc.) can significantly impact performance.\n",
        "\n",
        "**Ensemble methods:** Combining forecasts from multiple models can reduce the impact of individual model assumptions and potentially improve accuracy.\n"
      ],
      "metadata": {
        "id": "29ddYtAb25js"
      }
    },
    {
      "cell_type": "markdown",
      "source": [
        "# **Scenario and Tasks:**\n",
        "\n",
        "Forecast next 24-hour electricity demand using historical hourly data.\n",
        "\n",
        "## **Steps Taken:**\n",
        "\n",
        " **1.Data Loading and Visualization:** Helps in understanding recent demand\n",
        "  trends and identifying any obvious patterns or anomalies.\n",
        "**2.Decomposition:** Breaks the series into trend, seasonality, and residuals,\n",
        " aiding in the understanding of the data's components.\n",
        "**3.Model Building with ARIMA or LSTM:** Choice depends on the data's nature (linear trends favor ARIMA, while non-linear, long-term dependencies favor LSTM).\n",
        "\n",
        "## **Model Choice:**\n",
        "\n",
        "**ARIMA for Linear Relationships:** Good baseline for time series forecasting when data shows trends and seasonality that seem linear.\n",
        "\n",
        "**LSTM for Complex Patterns:** Better for capturing long-term dependencies that might not strictly be linear.\n",
        "\n",
        "**Improving Model Accuracy:**\n",
        "\n",
        "**More Data:** More historical data can reveal more robust patterns and improve forecast reliability.\n",
        "\n",
        "**Feature Engineering:** Including lag features, rolling means, or external variables (like weather) can enhance model predictions.\n",
        "\n",
        "**Advanced Techniques:** Using ensemble methods or more complex configurations and hyperparameter tuning can refine predictions further.\n"
      ],
      "metadata": {
        "id": "ERHXQkKBppiZ"
      }
    },
    {
      "cell_type": "code",
      "source": [],
      "metadata": {
        "id": "V3qV9afNptzk"
      },
      "execution_count": null,
      "outputs": []
    },
    {
      "cell_type": "markdown",
      "source": [
        "# **THANK YOU FOR GIVE THIS OPPORUNITY** **.**\n",
        "\n",
        "# **THANKS**"
      ],
      "metadata": {
        "id": "1vlFn6EUqzEU"
      }
    },
    {
      "cell_type": "code",
      "source": [],
      "metadata": {
        "id": "U21niq0PrOQ4"
      },
      "execution_count": null,
      "outputs": []
    }
  ]
}